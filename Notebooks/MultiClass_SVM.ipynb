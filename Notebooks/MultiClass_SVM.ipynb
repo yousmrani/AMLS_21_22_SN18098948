{
 "cells": [
  {
   "cell_type": "markdown",
   "id": "55433833",
   "metadata": {},
   "source": [
    "## Import Libraries"
   ]
  },
  {
   "cell_type": "code",
   "execution_count": 1,
   "id": "93154dcc",
   "metadata": {},
   "outputs": [
    {
     "name": "stderr",
     "output_type": "stream",
     "text": [
      "Using TensorFlow backend.\n"
     ]
    },
    {
     "name": "stdout",
     "output_type": "stream",
     "text": [
      "All imports done\n"
     ]
    }
   ],
   "source": [
    "import pandas as pd\n",
    "import numpy as np\n",
    "from sklearn.metrics import classification_report,accuracy_score\n",
    "from sklearn import svm\n",
    "from skimage.io import imread, imshow\n",
    "import os \n",
    "\n",
    "print(\"All imports done\")"
   ]
  },
  {
   "cell_type": "markdown",
   "id": "4f209198",
   "metadata": {},
   "source": [
    "## Data preprocessing\n"
   ]
  },
  {
   "cell_type": "code",
   "execution_count": 2,
   "id": "c431d507",
   "metadata": {},
   "outputs": [],
   "source": [
    "basedir = './dataset'\n",
    "images_dir = os.path.join(basedir,'image')\n",
    "labels_filename = 'label.csv'\n",
    "\n",
    "def categorical_labelling(): \n",
    "    labels_file = open(os.path.join(basedir, labels_filename), 'r')\n",
    "    lines = labels_file.readlines()\n",
    "    tumor_labels = {line.split(',')[0] : (line.split(',')[1].strip()) for line in lines[1:]}\n",
    "\n",
    "    for i in tumor_labels: \n",
    "        if tumor_labels[i] == 'no_tumor': \n",
    "            tumor_labels[i] = 0\n",
    "        elif tumor_labels[i] == \"meningioma_tumor\":\n",
    "            tumor_labels[i] = 1\n",
    "        elif tumor_labels[i] == \"glioma_tumor\":\n",
    "            tumor_labels[i] = 2\n",
    "        elif tumor_labels[i] == \"pituitary_tumor\":\n",
    "            tumor_labels[i] = 3\n",
    "    return(tumor_labels)\n"
   ]
  },
  {
   "cell_type": "code",
   "execution_count": 3,
   "id": "14b604d3",
   "metadata": {},
   "outputs": [],
   "source": [
    "def extract_features():\n",
    "    all_features = []\n",
    "    all_labels = []\n",
    "    \n",
    "    labels = categorical_labelling()\n",
    "\n",
    "    image_paths = [os.path.join(images_dir, l) for l in os.listdir(images_dir)]\n",
    "    print(images_dir)\n",
    "    counter = 0\n",
    "    if os.path.isdir(images_dir):\n",
    "        all_features = []\n",
    "        all_labels = []\n",
    "        for img_path in image_paths:\n",
    "            filename = img_path.split('/')[-1]\n",
    "            img = imread(img_path, as_gray=True)\n",
    "            features = np.reshape(img, (512*512))\n",
    "            features.shape, features\n",
    "            all_features.append(features)\n",
    "            all_labels.append(labels[filename])\n",
    "    np_features = np.array(all_features)\n",
    "    np_labels = np.array(all_labels)\n",
    "    return np_features, np_labels\n",
    "        "
   ]
  },
  {
   "cell_type": "code",
   "execution_count": 4,
   "id": "0c2b15c9",
   "metadata": {},
   "outputs": [],
   "source": [
    "def get_data(): \n",
    "\n",
    "    X, y = extract_features()\n",
    "\n",
    "    Y = np.array([y, -(y - 1)]).T\n",
    "    tr_X = X[:2400]\n",
    "    tr_Y = Y[:2400]\n",
    "    te_X = X[2400:]\n",
    "    te_Y = Y[2400:]\n",
    "    \n",
    "    return tr_X, tr_Y, te_X, te_Y"
   ]
  },
  {
   "cell_type": "code",
   "execution_count": 5,
   "id": "15257f89",
   "metadata": {},
   "outputs": [
    {
     "name": "stdout",
     "output_type": "stream",
     "text": [
      "./dataset/image\n",
      "[3 3 0 2 1 3 2 3 3 2 2 2 2 2 3 1 3 1 1 1 3 2 2 2 3 3 2 3 3 3 3 3 1 3 3 2 2\n",
      " 2 2 2 3 2 3 2 0 2 3 0 0 2 3 2 2 3 3 3 2 0 1 1 2 2 2 3 2 0 2 3 2 3 3 0 1 3\n",
      " 1 2 1 1 1 3 2 2 2 3 1 1 3 3 3 3 3 3 1 1 0 2 2 0 1 0 2 3 1 2 3 1 1 1 1 0 3\n",
      " 3 1 2 0 1 2 1 3 2 3 3 2 2 1 3 2 3 2 1 1 1 3 3 0 1 0 2 3 3 2 2 1 3 1 3 3 1\n",
      " 3 2 3 0 0 1 3 2 2 3 3 2 0 3 3 2 1 2 2 3 1 0 0 2 1 1 2 2 2 2 2 3 3 2 3 3 2\n",
      " 1 2 0 0 3 1 0 1 3 3 2 2 3 2 1 3 1 3 3 1 2 1 1 2 3 3 2 2 1 3 3 2 1 3 0 1 3\n",
      " 0 1 1 3 1 2 2 1 2 1 0 2 2 2 1 2 1 2 2 1 2 1 1 1 1 0 1 0 3 1 1 2 2 1 1 2 3\n",
      " 3 2 3 2 1 2 3 2 2 2 2 1 1 3 1 2 1 1 2 0 0 0 1 3 0 2 2 2 1 2 2 1 3 2 1 0 1\n",
      " 3 1 0 2 1 1 0 1 1 3 2 3 2 2 1 1 0 1 1 0 2 1 2 1 0 3 1 3 1 3 2 1 1 1 0 2 1\n",
      " 3 3 2 3 1 1 0 1 1 3 1 2 1 3 3 3 3 1 1 1 0 1 3 3 3 2 3 3 2 0 1 1 2 0 2 1 2\n",
      " 1 3 2 1 3 3 2 1 2 1 1 3 2 3 1 2 1 1 1 3 1 0 2 2 3 0 3 1 0 3 3 0 1 1 1 2 3\n",
      " 2 2 3 0 2 3 1 2 3 3 2 3 2 1 1 1 2 2 3 0 3 3 2 3 3 3 2 2 1 0 2 0 2 1 1 3 3\n",
      " 2 3 2 1 3 2 3 3 2 2 1 2 2 0 0 0 1 3 1 2 3 1 1 2 1 3 3 2 1 0 1 3 3 1 2 0 2\n",
      " 3 2 1 2 2 2 2 1 0 3 2 0 3 1 0 0 3 3 1 3 3 3 1 3 2 3 2 2 2 3 1 3 0 1 2 2 1\n",
      " 1 2 2 2 3 3 2 0 0 1 2 2 2 3 1 3 2 2 1 0 1 3 3 3 3 1 1 0 2 1 3 2 0 2 1 2 2\n",
      " 2 2 2 1 3 2 3 1 3 1 2 1 2 2 0 1 2 1 1 2 0 1 2 3 0 3 1 3 1 2 1 1 1 1 2 1 2\n",
      " 2 2 2 2 2 3 0 2]\n",
      "Accuracy: 0.805\n"
     ]
    }
   ],
   "source": [
    "tr_X, tr_Y, te_X, te_Y= get_data()\n",
    "\n",
    "classifier = svm.SVC(kernel='linear')\n",
    "classifier.fit(tr_X, list(zip(*tr_Y))[0])\n",
    "\n",
    "pred = classifier.predict(te_X)\n",
    "\n",
    "print(pred)\n",
    "\n",
    "print(\"Accuracy:\", accuracy_score(list(zip(*te_Y))[0], pred))"
   ]
  },
  {
   "cell_type": "code",
   "execution_count": 8,
   "id": "b60c8b48",
   "metadata": {},
   "outputs": [
    {
     "name": "stdout",
     "output_type": "stream",
     "text": [
      "                  precision    recall  f1-score   support\n",
      "\n",
      "       no tumour       0.80      0.70      0.74        79\n",
      "meningioma_tumor       0.73      0.72      0.72       174\n",
      "    glioma_tumor       0.74      0.77      0.76       184\n",
      " pituitary_tumor       0.96      0.99      0.97       163\n",
      "\n",
      "        accuracy                           0.81       600\n",
      "       macro avg       0.81      0.79      0.80       600\n",
      "    weighted avg       0.80      0.81      0.80       600\n",
      "\n"
     ]
    }
   ],
   "source": [
    "rounded_labels = list(zip(*te_Y))[0]\n",
    "cm = classification_report(rounded_labels, pred, target_names = [\"no tumour\", \"meningioma_tumor\", \"glioma_tumor\", \"pituitary_tumor\"])\n",
    "print(cm)"
   ]
  },
  {
   "cell_type": "markdown",
   "id": "61975ff7",
   "metadata": {},
   "source": [
    "## Testing dataset\n"
   ]
  },
  {
   "cell_type": "markdown",
   "id": "4cd4a7b2",
   "metadata": {},
   "source": [
    "### Testing data pre-processing\n"
   ]
  },
  {
   "cell_type": "code",
   "execution_count": 9,
   "id": "94621c92",
   "metadata": {},
   "outputs": [],
   "source": [
    "testdir = './test'\n",
    "test_images_dir = os.path.join(testdir,'image')\n",
    "test_labels_filename = 'label.csv'\n",
    "\n",
    "def categorical_labelling_testset(): \n",
    "    labels_file = open(os.path.join(testdir, test_labels_filename), 'r')\n",
    "    lines = labels_file.readlines()\n",
    "    tumor_labels = {line.split(',')[0] : (line.split(',')[1].strip()) for line in lines[1:]}\n",
    "\n",
    "    for i in tumor_labels: \n",
    "        if tumor_labels[i] == 'no_tumor': \n",
    "            tumor_labels[i] = 0\n",
    "        elif tumor_labels[i] == \"meningioma_tumor\":\n",
    "            tumor_labels[i] = 1\n",
    "        elif tumor_labels[i] == \"glioma_tumor\":\n",
    "            tumor_labels[i] = 2\n",
    "        elif tumor_labels[i] == \"pituitary_tumor\":\n",
    "            tumor_labels[i] = 3\n",
    "    return(tumor_labels)"
   ]
  },
  {
   "cell_type": "code",
   "execution_count": 10,
   "id": "3a0a0c2c",
   "metadata": {},
   "outputs": [],
   "source": [
    "def extract_features_testset():\n",
    "    all_features = []\n",
    "    all_labels = []\n",
    "    \n",
    "    labels = categorical_labelling_testset()\n",
    "\n",
    "    image_paths = [os.path.join(test_images_dir, l) for l in os.listdir(test_images_dir)]\n",
    "    if os.path.isdir(images_dir):\n",
    "        all_features = []\n",
    "        all_labels = []\n",
    "        for img_path in image_paths:\n",
    "            filename = img_path.split('/')[-1]\n",
    "            img = imread(img_path, as_gray=True)\n",
    "            features = np.reshape(img, (512*512))\n",
    "            features.shape, features\n",
    "            all_features.append(features)\n",
    "            all_labels.append(labels[filename])\n",
    "    np_features = np.array(all_features)\n",
    "    np_labels = np.array(all_labels)\n",
    "    return np_features, np_labels"
   ]
  },
  {
   "cell_type": "markdown",
   "id": "bd2951f7",
   "metadata": {},
   "source": [
    "### Testing\n"
   ]
  },
  {
   "cell_type": "code",
   "execution_count": 12,
   "id": "95e1c26e",
   "metadata": {},
   "outputs": [
    {
     "name": "stdout",
     "output_type": "stream",
     "text": [
      "Accuracy: 0.81\n",
      "                  precision    recall  f1-score   support\n",
      "\n",
      "       no tumour       0.79      0.73      0.76        37\n",
      "meningioma_tumor       0.80      0.71      0.75        68\n",
      "    glioma_tumor       0.73      0.86      0.79        43\n",
      " pituitary_tumor       0.91      0.96      0.93        52\n",
      "\n",
      "        accuracy                           0.81       200\n",
      "       macro avg       0.81      0.81      0.81       200\n",
      "    weighted avg       0.81      0.81      0.81       200\n",
      "\n"
     ]
    }
   ],
   "source": [
    "testing_x, testing_y = extract_features_testset()\n",
    "testing_Y = np.array([testing_y, -(testing_y - 1)]).T\n",
    "\n",
    "pred_testing = classifier.predict(testing_x)\n",
    "\n",
    "print(\"Accuracy:\", accuracy_score(list(zip(*testing_Y))[0], pred_testing))\n",
    "\n",
    "rounded_testing_labels = list(zip(*testing_Y))[0]\n",
    "c_report_testing = classification_report(rounded_testing_labels, pred_testing, target_names = [\"no tumour\", \"meningioma_tumor\", \"glioma_tumor\", \"pituitary_tumor\"])\n",
    "print(c_report_testing)"
   ]
  }
 ],
 "metadata": {
  "kernelspec": {
   "display_name": "Python 3 (ipykernel)",
   "language": "python",
   "name": "python3"
  },
  "language_info": {
   "codemirror_mode": {
    "name": "ipython",
    "version": 3
   },
   "file_extension": ".py",
   "mimetype": "text/x-python",
   "name": "python",
   "nbconvert_exporter": "python",
   "pygments_lexer": "ipython3",
   "version": "3.7.11"
  }
 },
 "nbformat": 4,
 "nbformat_minor": 5
}
