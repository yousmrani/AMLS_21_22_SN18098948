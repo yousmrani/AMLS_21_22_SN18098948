{
 "cells": [
  {
   "cell_type": "markdown",
   "id": "8ad484d7",
   "metadata": {},
   "source": [
    "# Import libraries"
   ]
  },
  {
   "cell_type": "code",
   "execution_count": 1,
   "id": "18070f80",
   "metadata": {},
   "outputs": [
    {
     "name": "stderr",
     "output_type": "stream",
     "text": [
      "Using TensorFlow backend.\n"
     ]
    },
    {
     "name": "stdout",
     "output_type": "stream",
     "text": [
      "All imports done\n"
     ]
    }
   ],
   "source": [
    "import pandas as pd\n",
    "import numpy as np\n",
    "from sklearn.metrics import classification_report,accuracy_score\n",
    "from skimage.io import imread, imshow\n",
    "from sklearn.linear_model import LogisticRegression\n",
    "\n",
    "import os \n",
    "\n",
    "print(\"All imports done\")"
   ]
  },
  {
   "cell_type": "markdown",
   "id": "39cc8878",
   "metadata": {},
   "source": [
    "## Define Directories"
   ]
  },
  {
   "cell_type": "code",
   "execution_count": 2,
   "id": "c5389d2f",
   "metadata": {},
   "outputs": [],
   "source": [
    "basedir = './dataset'\n",
    "images_dir = os.path.join(basedir,'image')\n",
    "labels_filename = 'label.csv'"
   ]
  },
  {
   "cell_type": "markdown",
   "id": "c8a3ec6f",
   "metadata": {},
   "source": [
    "## Data Preprocessing"
   ]
  },
  {
   "cell_type": "code",
   "execution_count": 3,
   "id": "d3adca8b",
   "metadata": {},
   "outputs": [],
   "source": [
    "def binary_labelling(): \n",
    "    labels_file = open(os.path.join(basedir, labels_filename), 'r')\n",
    "    lines = labels_file.readlines()\n",
    "    tumor_labels = {line.split(',')[0] : (line.split(',')[1].strip()) for line in lines[1:]}\n",
    "\n",
    "    for i in tumor_labels: \n",
    "        if tumor_labels[i] == 'no_tumor': \n",
    "            tumor_labels[i] = 0\n",
    "        else:\n",
    "            tumor_labels[i] = 1    \n",
    "    return(tumor_labels)\n"
   ]
  },
  {
   "cell_type": "code",
   "execution_count": 4,
   "id": "310947a2",
   "metadata": {},
   "outputs": [],
   "source": [
    "def extract_features():\n",
    "    all_features = []\n",
    "    all_labels = []\n",
    "    \n",
    "    labels = binary_labelling()\n",
    "\n",
    "    image_paths = [os.path.join(images_dir, l) for l in os.listdir(images_dir)]\n",
    "    print(images_dir)\n",
    "    counter = 0\n",
    "    if os.path.isdir(images_dir):\n",
    "        all_features = []\n",
    "        all_labels = []\n",
    "        for img_path in image_paths:\n",
    "            filename = img_path.split('/')[-1]\n",
    "            img = imread(img_path, as_gray=True)\n",
    "            features = np.reshape(img, (512*512))\n",
    "            features.shape, features\n",
    "            all_features.append(features)\n",
    "            all_labels.append(labels[filename])\n",
    "    np_features = np.array(all_features)\n",
    "    np_labels = np.array(all_labels)\n",
    "    return np_features, np_labels\n",
    "        \n"
   ]
  },
  {
   "cell_type": "markdown",
   "id": "3d66bbc2",
   "metadata": {},
   "source": [
    "## Feature extraction"
   ]
  },
  {
   "cell_type": "code",
   "execution_count": 5,
   "id": "c5b245d9",
   "metadata": {},
   "outputs": [],
   "source": [
    "def get_data(): \n",
    "\n",
    "    X, y = extract_features()\n",
    "\n",
    "    Y = np.array([y, -(y - 1)]).T\n",
    "    tr_X = X[:2400]\n",
    "    tr_Y = Y[:2400]\n",
    "    te_X = X[2400:]\n",
    "    te_Y = Y[2400:]\n",
    "    \n",
    "    return tr_X, tr_Y, te_X, te_Y"
   ]
  },
  {
   "cell_type": "markdown",
   "id": "2434d3e0",
   "metadata": {},
   "source": [
    "## Classifier Implementation"
   ]
  },
  {
   "cell_type": "code",
   "execution_count": 7,
   "id": "cd83d713",
   "metadata": {},
   "outputs": [
    {
     "name": "stdout",
     "output_type": "stream",
     "text": [
      "{'IMAGE_0000.jpg': 1, 'IMAGE_0001.jpg': 0, 'IMAGE_0002.jpg': 1, 'IMAGE_0003.jpg': 1, 'IMAGE_0004.jpg': 1, 'IMAGE_0005.jpg': 1, 'IMAGE_0006.jpg': 0, 'IMAGE_0007.jpg': 1, 'IMAGE_0008.jpg': 1, 'IMAGE_0009.jpg': 1, 'IMAGE_0010.jpg': 1, 'IMAGE_0011.jpg': 1, 'IMAGE_0012.jpg': 1, 'IMAGE_0013.jpg': 1, 'IMAGE_0014.jpg': 1, 'IMAGE_0015.jpg': 1, 'IMAGE_0016.jpg': 1, 'IMAGE_0017.jpg': 1, 'IMAGE_0018.jpg': 1, 'IMAGE_0019.jpg': 0, 'IMAGE_0020.jpg': 0, 'IMAGE_0021.jpg': 1, 'IMAGE_0022.jpg': 1, 'IMAGE_0023.jpg': 1, 'IMAGE_0024.jpg': 1, 'IMAGE_0025.jpg': 1, 'IMAGE_0026.jpg': 1, 'IMAGE_0027.jpg': 0, 'IMAGE_0028.jpg': 1, 'IMAGE_0029.jpg': 1, 'IMAGE_0030.jpg': 1, 'IMAGE_0031.jpg': 1, 'IMAGE_0032.jpg': 1, 'IMAGE_0033.jpg': 1, 'IMAGE_0034.jpg': 1, 'IMAGE_0035.jpg': 1, 'IMAGE_0036.jpg': 0, 'IMAGE_0037.jpg': 1, 'IMAGE_0038.jpg': 1, 'IMAGE_0039.jpg': 1, 'IMAGE_0040.jpg': 1, 'IMAGE_0041.jpg': 1, 'IMAGE_0042.jpg': 0, 'IMAGE_0043.jpg': 1, 'IMAGE_0044.jpg': 1, 'IMAGE_0045.jpg': 1, 'IMAGE_0046.jpg': 1, 'IMAGE_0047.jpg': 1, 'IMAGE_0048.jpg': 0, 'IMAGE_0049.jpg': 1, 'IMAGE_0050.jpg': 1, 'IMAGE_0051.jpg': 1, 'IMAGE_0052.jpg': 1, 'IMAGE_0053.jpg': 1, 'IMAGE_0054.jpg': 1, 'IMAGE_0055.jpg': 1, 'IMAGE_0056.jpg': 1, 'IMAGE_0057.jpg': 1, 'IMAGE_0058.jpg': 1, 'IMAGE_0059.jpg': 1, 'IMAGE_0060.jpg': 1, 'IMAGE_0061.jpg': 1, 'IMAGE_0062.jpg': 1, 'IMAGE_0063.jpg': 1, 'IMAGE_0064.jpg': 1, 'IMAGE_0065.jpg': 1, 'IMAGE_0066.jpg': 1, 'IMAGE_0067.jpg': 1, 'IMAGE_0068.jpg': 1, 'IMAGE_0069.jpg': 1, 'IMAGE_0070.jpg': 1, 'IMAGE_0071.jpg': 1, 'IMAGE_0072.jpg': 1, 'IMAGE_0073.jpg': 1, 'IMAGE_0074.jpg': 1, 'IMAGE_0075.jpg': 1, 'IMAGE_0076.jpg': 1, 'IMAGE_0077.jpg': 1, 'IMAGE_0078.jpg': 0, 'IMAGE_0079.jpg': 1, 'IMAGE_0080.jpg': 1, 'IMAGE_0081.jpg': 1, 'IMAGE_0082.jpg': 1, 'IMAGE_0083.jpg': 1, 'IMAGE_0084.jpg': 1, 'IMAGE_0085.jpg': 1, 'IMAGE_0086.jpg': 1, 'IMAGE_0087.jpg': 1, 'IMAGE_0088.jpg': 1, 'IMAGE_0089.jpg': 1, 'IMAGE_0090.jpg': 1, 'IMAGE_0091.jpg': 1, 'IMAGE_0092.jpg': 1, 'IMAGE_0093.jpg': 1, 'IMAGE_0094.jpg': 1, 'IMAGE_0095.jpg': 1, 'IMAGE_0096.jpg': 1, 'IMAGE_0097.jpg': 1, 'IMAGE_0098.jpg': 1, 'IMAGE_0099.jpg': 1, 'IMAGE_0100.jpg': 1, 'IMAGE_0101.jpg': 0, 'IMAGE_0102.jpg': 1, 'IMAGE_0103.jpg': 1, 'IMAGE_0104.jpg': 1, 'IMAGE_0105.jpg': 1, 'IMAGE_0106.jpg': 1, 'IMAGE_0107.jpg': 1, 'IMAGE_0108.jpg': 1, 'IMAGE_0109.jpg': 1, 'IMAGE_0110.jpg': 1, 'IMAGE_0111.jpg': 1, 'IMAGE_0112.jpg': 1, 'IMAGE_0113.jpg': 1, 'IMAGE_0114.jpg': 0, 'IMAGE_0115.jpg': 1, 'IMAGE_0116.jpg': 1, 'IMAGE_0117.jpg': 1, 'IMAGE_0118.jpg': 1, 'IMAGE_0119.jpg': 1, 'IMAGE_0120.jpg': 1, 'IMAGE_0121.jpg': 1, 'IMAGE_0122.jpg': 1, 'IMAGE_0123.jpg': 1, 'IMAGE_0124.jpg': 1, 'IMAGE_0125.jpg': 0, 'IMAGE_0126.jpg': 1, 'IMAGE_0127.jpg': 0, 'IMAGE_0128.jpg': 1, 'IMAGE_0129.jpg': 1, 'IMAGE_0130.jpg': 1, 'IMAGE_0131.jpg': 0, 'IMAGE_0132.jpg': 1, 'IMAGE_0133.jpg': 1, 'IMAGE_0134.jpg': 1, 'IMAGE_0135.jpg': 1, 'IMAGE_0136.jpg': 1, 'IMAGE_0137.jpg': 1, 'IMAGE_0138.jpg': 1, 'IMAGE_0139.jpg': 1, 'IMAGE_0140.jpg': 1, 'IMAGE_0141.jpg': 1, 'IMAGE_0142.jpg': 1, 'IMAGE_0143.jpg': 1, 'IMAGE_0144.jpg': 1, 'IMAGE_0145.jpg': 1, 'IMAGE_0146.jpg': 1, 'IMAGE_0147.jpg': 1, 'IMAGE_0148.jpg': 1, 'IMAGE_0149.jpg': 1, 'IMAGE_0150.jpg': 1, 'IMAGE_0151.jpg': 1, 'IMAGE_0152.jpg': 1, 'IMAGE_0153.jpg': 1, 'IMAGE_0154.jpg': 1, 'IMAGE_0155.jpg': 1, 'IMAGE_0156.jpg': 0, 'IMAGE_0157.jpg': 1, 'IMAGE_0158.jpg': 1, 'IMAGE_0159.jpg': 1, 'IMAGE_0160.jpg': 1, 'IMAGE_0161.jpg': 1, 'IMAGE_0162.jpg': 1, 'IMAGE_0163.jpg': 1, 'IMAGE_0164.jpg': 1, 'IMAGE_0165.jpg': 1, 'IMAGE_0166.jpg': 1, 'IMAGE_0167.jpg': 1, 'IMAGE_0168.jpg': 1, 'IMAGE_0169.jpg': 1, 'IMAGE_0170.jpg': 0, 'IMAGE_0171.jpg': 1, 'IMAGE_0172.jpg': 1, 'IMAGE_0173.jpg': 1, 'IMAGE_0174.jpg': 1, 'IMAGE_0175.jpg': 1, 'IMAGE_0176.jpg': 0, 'IMAGE_0177.jpg': 1, 'IMAGE_0178.jpg': 1, 'IMAGE_0179.jpg': 1, 'IMAGE_0180.jpg': 1, 'IMAGE_0181.jpg': 1, 'IMAGE_0182.jpg': 1, 'IMAGE_0183.jpg': 1, 'IMAGE_0184.jpg': 1, 'IMAGE_0185.jpg': 1, 'IMAGE_0186.jpg': 0, 'IMAGE_0187.jpg': 1, 'IMAGE_0188.jpg': 1, 'IMAGE_0189.jpg': 1, 'IMAGE_0190.jpg': 1, 'IMAGE_0191.jpg': 1, 'IMAGE_0192.jpg': 1, 'IMAGE_0193.jpg': 1, 'IMAGE_0194.jpg': 1, 'IMAGE_0195.jpg': 1, 'IMAGE_0196.jpg': 1, 'IMAGE_0197.jpg': 1, 'IMAGE_0198.jpg': 1, 'IMAGE_0199.jpg': 1, 'IMAGE_0200.jpg': 0, 'IMAGE_0201.jpg': 1, 'IMAGE_0202.jpg': 1, 'IMAGE_0203.jpg': 1, 'IMAGE_0204.jpg': 0, 'IMAGE_0205.jpg': 1, 'IMAGE_0206.jpg': 1, 'IMAGE_0207.jpg': 0, 'IMAGE_0208.jpg': 1, 'IMAGE_0209.jpg': 1, 'IMAGE_0210.jpg': 1, 'IMAGE_0211.jpg': 1, 'IMAGE_0212.jpg': 1, 'IMAGE_0213.jpg': 1, 'IMAGE_0214.jpg': 1, 'IMAGE_0215.jpg': 1, 'IMAGE_0216.jpg': 1, 'IMAGE_0217.jpg': 1, 'IMAGE_0218.jpg': 1, 'IMAGE_0219.jpg': 1, 'IMAGE_0220.jpg': 1, 'IMAGE_0221.jpg': 1, 'IMAGE_0222.jpg': 1, 'IMAGE_0223.jpg': 1, 'IMAGE_0224.jpg': 1, 'IMAGE_0225.jpg': 1, 'IMAGE_0226.jpg': 1, 'IMAGE_0227.jpg': 1, 'IMAGE_0228.jpg': 0, 'IMAGE_0229.jpg': 0, 'IMAGE_0230.jpg': 1, 'IMAGE_0231.jpg': 1, 'IMAGE_0232.jpg': 1, 'IMAGE_0233.jpg': 0, 'IMAGE_0234.jpg': 0, 'IMAGE_0235.jpg': 1, 'IMAGE_0236.jpg': 1, 'IMAGE_0237.jpg': 1, 'IMAGE_0238.jpg': 1, 'IMAGE_0239.jpg': 1, 'IMAGE_0240.jpg': 1, 'IMAGE_0241.jpg': 1, 'IMAGE_0242.jpg': 1, 'IMAGE_0243.jpg': 1, 'IMAGE_0244.jpg': 1, 'IMAGE_0245.jpg': 1, 'IMAGE_0246.jpg': 1, 'IMAGE_0247.jpg': 1, 'IMAGE_0248.jpg': 1, 'IMAGE_0249.jpg': 0, 'IMAGE_0250.jpg': 1, 'IMAGE_0251.jpg': 1, 'IMAGE_0252.jpg': 1, 'IMAGE_0253.jpg': 1, 'IMAGE_0254.jpg': 1, 'IMAGE_0255.jpg': 1, 'IMAGE_0256.jpg': 1, 'IMAGE_0257.jpg': 0, 'IMAGE_0258.jpg': 1, 'IMAGE_0259.jpg': 0, 'IMAGE_0260.jpg': 1, 'IMAGE_0261.jpg': 1, 'IMAGE_0262.jpg': 1, 'IMAGE_0263.jpg': 0, 'IMAGE_0264.jpg': 1, 'IMAGE_0265.jpg': 1, 'IMAGE_0266.jpg': 1, 'IMAGE_0267.jpg': 1, 'IMAGE_0268.jpg': 1, 'IMAGE_0269.jpg': 1, 'IMAGE_0270.jpg': 1, 'IMAGE_0271.jpg': 1, 'IMAGE_0272.jpg': 1, 'IMAGE_0273.jpg': 0, 'IMAGE_0274.jpg': 1, 'IMAGE_0275.jpg': 1, 'IMAGE_0276.jpg': 1, 'IMAGE_0277.jpg': 1, 'IMAGE_0278.jpg': 1, 'IMAGE_0279.jpg': 0, 'IMAGE_0280.jpg': 1, 'IMAGE_0281.jpg': 1, 'IMAGE_0282.jpg': 1, 'IMAGE_0283.jpg': 0, 'IMAGE_0284.jpg': 1, 'IMAGE_0285.jpg': 1, 'IMAGE_0286.jpg': 1, 'IMAGE_0287.jpg': 1, 'IMAGE_0288.jpg': 1, 'IMAGE_0289.jpg': 1, 'IMAGE_0290.jpg': 1, 'IMAGE_0291.jpg': 1, 'IMAGE_0292.jpg': 0, 'IMAGE_0293.jpg': 1, 'IMAGE_0294.jpg': 1, 'IMAGE_0295.jpg': 0, 'IMAGE_0296.jpg': 0, 'IMAGE_0297.jpg': 1, 'IMAGE_0298.jpg': 1, 'IMAGE_0299.jpg': 1, 'IMAGE_0300.jpg': 1, 'IMAGE_0301.jpg': 1, 'IMAGE_0302.jpg': 1, 'IMAGE_0303.jpg': 1, 'IMAGE_0304.jpg': 1, 'IMAGE_0305.jpg': 1, 'IMAGE_0306.jpg': 1, 'IMAGE_0307.jpg': 1, 'IMAGE_0308.jpg': 1, 'IMAGE_0309.jpg': 1, 'IMAGE_0310.jpg': 1, 'IMAGE_0311.jpg': 1, 'IMAGE_0312.jpg': 0, 'IMAGE_0313.jpg': 1, 'IMAGE_0314.jpg': 1, 'IMAGE_0315.jpg': 1, 'IMAGE_0316.jpg': 1, 'IMAGE_0317.jpg': 1, 'IMAGE_0318.jpg': 0, 'IMAGE_0319.jpg': 1, 'IMAGE_0320.jpg': 1, 'IMAGE_0321.jpg': 1, 'IMAGE_0322.jpg': 1, 'IMAGE_0323.jpg': 0, 'IMAGE_0324.jpg': 1, 'IMAGE_0325.jpg': 1, 'IMAGE_0326.jpg': 1, 'IMAGE_0327.jpg': 1, 'IMAGE_0328.jpg': 1, 'IMAGE_0329.jpg': 1, 'IMAGE_0330.jpg': 1, 'IMAGE_0331.jpg': 1, 'IMAGE_0332.jpg': 1, 'IMAGE_0333.jpg': 1, 'IMAGE_0334.jpg': 1, 'IMAGE_0335.jpg': 0, 'IMAGE_0336.jpg': 1, 'IMAGE_0337.jpg': 1, 'IMAGE_0338.jpg': 1, 'IMAGE_0339.jpg': 1, 'IMAGE_0340.jpg': 1, 'IMAGE_0341.jpg': 1, 'IMAGE_0342.jpg': 1, 'IMAGE_0343.jpg': 1, 'IMAGE_0344.jpg': 1, 'IMAGE_0345.jpg': 1, 'IMAGE_0346.jpg': 1, 'IMAGE_0347.jpg': 1, 'IMAGE_0348.jpg': 0, 'IMAGE_0349.jpg': 1, 'IMAGE_0350.jpg': 1, 'IMAGE_0351.jpg': 1, 'IMAGE_0352.jpg': 1, 'IMAGE_0353.jpg': 1, 'IMAGE_0354.jpg': 1, 'IMAGE_0355.jpg': 1, 'IMAGE_0356.jpg': 1, 'IMAGE_0357.jpg': 1, 'IMAGE_0358.jpg': 1, 'IMAGE_0359.jpg': 1, 'IMAGE_0360.jpg': 1, 'IMAGE_0361.jpg': 0, 'IMAGE_0362.jpg': 1, 'IMAGE_0363.jpg': 1, 'IMAGE_0364.jpg': 1, 'IMAGE_0365.jpg': 1, 'IMAGE_0366.jpg': 1, 'IMAGE_0367.jpg': 1, 'IMAGE_0368.jpg': 1, 'IMAGE_0369.jpg': 1, 'IMAGE_0370.jpg': 1, 'IMAGE_0371.jpg': 1, 'IMAGE_0372.jpg': 1, 'IMAGE_0373.jpg': 1, 'IMAGE_0374.jpg': 1, 'IMAGE_0375.jpg': 1, 'IMAGE_0376.jpg': 1, 'IMAGE_0377.jpg': 1, 'IMAGE_0378.jpg': 1, 'IMAGE_0379.jpg': 0, 'IMAGE_0380.jpg': 1, 'IMAGE_0381.jpg': 0, 'IMAGE_0382.jpg': 1, 'IMAGE_0383.jpg': 1, 'IMAGE_0384.jpg': 1, 'IMAGE_0385.jpg': 0, 'IMAGE_0386.jpg': 1, 'IMAGE_0387.jpg': 1, 'IMAGE_0388.jpg': 0, 'IMAGE_0389.jpg': 1, 'IMAGE_0390.jpg': 1, 'IMAGE_0391.jpg': 1, 'IMAGE_0392.jpg': 0, 'IMAGE_0393.jpg': 0, 'IMAGE_0394.jpg': 1, 'IMAGE_0395.jpg': 0, 'IMAGE_0396.jpg': 1, 'IMAGE_0397.jpg': 0, 'IMAGE_0398.jpg': 1, 'IMAGE_0399.jpg': 1, 'IMAGE_0400.jpg': 1, 'IMAGE_0401.jpg': 1, 'IMAGE_0402.jpg': 1, 'IMAGE_0403.jpg': 1, 'IMAGE_0404.jpg': 1, 'IMAGE_0405.jpg': 1, 'IMAGE_0406.jpg': 1, 'IMAGE_0407.jpg': 0, 'IMAGE_0408.jpg': 0, 'IMAGE_0409.jpg': 1, 'IMAGE_0410.jpg': 1, 'IMAGE_0411.jpg': 1, 'IMAGE_0412.jpg': 1, 'IMAGE_0413.jpg': 1, 'IMAGE_0414.jpg': 1, 'IMAGE_0415.jpg': 1, 'IMAGE_0416.jpg': 1, 'IMAGE_0417.jpg': 1, 'IMAGE_0418.jpg': 1, 'IMAGE_0419.jpg': 0, 'IMAGE_0420.jpg': 1, 'IMAGE_0421.jpg': 1, 'IMAGE_0422.jpg': 1, 'IMAGE_0423.jpg': 1, 'IMAGE_0424.jpg': 1, 'IMAGE_0425.jpg': 0, 'IMAGE_0426.jpg': 1, 'IMAGE_0427.jpg': 1, 'IMAGE_0428.jpg': 1, 'IMAGE_0429.jpg': 1, 'IMAGE_0430.jpg': 1, 'IMAGE_0431.jpg': 1, 'IMAGE_0432.jpg': 1, 'IMAGE_0433.jpg': 1, 'IMAGE_0434.jpg': 1, 'IMAGE_0435.jpg': 1, 'IMAGE_0436.jpg': 0, 'IMAGE_0437.jpg': 1, 'IMAGE_0438.jpg': 1, 'IMAGE_0439.jpg': 1, 'IMAGE_0440.jpg': 1, 'IMAGE_0441.jpg': 1, 'IMAGE_0442.jpg': 1, 'IMAGE_0443.jpg': 1, 'IMAGE_0444.jpg': 1, 'IMAGE_0445.jpg': 1, 'IMAGE_0446.jpg': 1, 'IMAGE_0447.jpg': 1, 'IMAGE_0448.jpg': 0, 'IMAGE_0449.jpg': 1, 'IMAGE_0450.jpg': 1, 'IMAGE_0451.jpg': 0, 'IMAGE_0452.jpg': 0, 'IMAGE_0453.jpg': 1, 'IMAGE_0454.jpg': 0, 'IMAGE_0455.jpg': 1, 'IMAGE_0456.jpg': 1, 'IMAGE_0457.jpg': 1, 'IMAGE_0458.jpg': 1, 'IMAGE_0459.jpg': 1, 'IMAGE_0460.jpg': 1, 'IMAGE_0461.jpg': 0, 'IMAGE_0462.jpg': 1, 'IMAGE_0463.jpg': 1, 'IMAGE_0464.jpg': 1, 'IMAGE_0465.jpg': 1, 'IMAGE_0466.jpg': 1, 'IMAGE_0467.jpg': 0, 'IMAGE_0468.jpg': 1, 'IMAGE_0469.jpg': 1, 'IMAGE_0470.jpg': 1, 'IMAGE_0471.jpg': 1, 'IMAGE_0472.jpg': 0, 'IMAGE_0473.jpg': 1, 'IMAGE_0474.jpg': 1, 'IMAGE_0475.jpg': 1, 'IMAGE_0476.jpg': 1, 'IMAGE_0477.jpg': 1, 'IMAGE_0478.jpg': 1, 'IMAGE_0479.jpg': 1, 'IMAGE_0480.jpg': 1, 'IMAGE_0481.jpg': 0, 'IMAGE_0482.jpg': 1, 'IMAGE_0483.jpg': 1, 'IMAGE_0484.jpg': 1, 'IMAGE_0485.jpg': 1, 'IMAGE_0486.jpg': 1, 'IMAGE_0487.jpg': 0, 'IMAGE_0488.jpg': 1, 'IMAGE_0489.jpg': 1, 'IMAGE_0490.jpg': 0, 'IMAGE_0491.jpg': 1, 'IMAGE_0492.jpg': 1, 'IMAGE_0493.jpg': 1, 'IMAGE_0494.jpg': 1, 'IMAGE_0495.jpg': 0, 'IMAGE_0496.jpg': 1, 'IMAGE_0497.jpg': 1, 'IMAGE_0498.jpg': 1, 'IMAGE_0499.jpg': 0, 'IMAGE_0500.jpg': 1, 'IMAGE_0501.jpg': 1, 'IMAGE_0502.jpg': 0, 'IMAGE_0503.jpg': 1, 'IMAGE_0504.jpg': 1, 'IMAGE_0505.jpg': 1, 'IMAGE_0506.jpg': 1, 'IMAGE_0507.jpg': 1, 'IMAGE_0508.jpg': 1, 'IMAGE_0509.jpg': 0, 'IMAGE_0510.jpg': 1, 'IMAGE_0511.jpg': 1, 'IMAGE_0512.jpg': 1, 'IMAGE_0513.jpg': 1, 'IMAGE_0514.jpg': 1, 'IMAGE_0515.jpg': 1, 'IMAGE_0516.jpg': 1, 'IMAGE_0517.jpg': 1, 'IMAGE_0518.jpg': 1, 'IMAGE_0519.jpg': 1, 'IMAGE_0520.jpg': 1, 'IMAGE_0521.jpg': 0, 'IMAGE_0522.jpg': 1, 'IMAGE_0523.jpg': 1, 'IMAGE_0524.jpg': 1, 'IMAGE_0525.jpg': 0, 'IMAGE_0526.jpg': 1, 'IMAGE_0527.jpg': 1, 'IMAGE_0528.jpg': 1, 'IMAGE_0529.jpg': 0, 'IMAGE_0530.jpg': 1, 'IMAGE_0531.jpg': 1, 'IMAGE_0532.jpg': 1, 'IMAGE_0533.jpg': 0, 'IMAGE_0534.jpg': 1, 'IMAGE_0535.jpg': 0, 'IMAGE_0536.jpg': 1, 'IMAGE_0537.jpg': 1, 'IMAGE_0538.jpg': 1, 'IMAGE_0539.jpg': 1, 'IMAGE_0540.jpg': 1, 'IMAGE_0541.jpg': 1, 'IMAGE_0542.jpg': 1, 'IMAGE_0543.jpg': 1, 'IMAGE_0544.jpg': 1, 'IMAGE_0545.jpg': 1, 'IMAGE_0546.jpg': 1, 'IMAGE_0547.jpg': 1, 'IMAGE_0548.jpg': 1, 'IMAGE_0549.jpg': 1, 'IMAGE_0550.jpg': 1, 'IMAGE_0551.jpg': 1, 'IMAGE_0552.jpg': 1, 'IMAGE_0553.jpg': 0, 'IMAGE_0554.jpg': 0, 'IMAGE_0555.jpg': 1, 'IMAGE_0556.jpg': 0, 'IMAGE_0557.jpg': 1, 'IMAGE_0558.jpg': 1, 'IMAGE_0559.jpg': 1, 'IMAGE_0560.jpg': 1, 'IMAGE_0561.jpg': 1, 'IMAGE_0562.jpg': 1, 'IMAGE_0563.jpg': 0, 'IMAGE_0564.jpg': 0, 'IMAGE_0565.jpg': 1, 'IMAGE_0566.jpg': 1, 'IMAGE_0567.jpg': 1, 'IMAGE_0568.jpg': 1, 'IMAGE_0569.jpg': 1, 'IMAGE_0570.jpg': 1, 'IMAGE_0571.jpg': 1, 'IMAGE_0572.jpg': 1, 'IMAGE_0573.jpg': 1, 'IMAGE_0574.jpg': 1, 'IMAGE_0575.jpg': 1, 'IMAGE_0576.jpg': 1, 'IMAGE_0577.jpg': 1, 'IMAGE_0578.jpg': 1, 'IMAGE_0579.jpg': 1, 'IMAGE_0580.jpg': 0, 'IMAGE_0581.jpg': 1, 'IMAGE_0582.jpg': 1, 'IMAGE_0583.jpg': 0, 'IMAGE_0584.jpg': 1, 'IMAGE_0585.jpg': 1, 'IMAGE_0586.jpg': 1, 'IMAGE_0587.jpg': 1, 'IMAGE_0588.jpg': 0, 'IMAGE_0589.jpg': 1, 'IMAGE_0590.jpg': 0, 'IMAGE_0591.jpg': 1, 'IMAGE_0592.jpg': 1, 'IMAGE_0593.jpg': 1, 'IMAGE_0594.jpg': 1, 'IMAGE_0595.jpg': 1, 'IMAGE_0596.jpg': 0, 'IMAGE_0597.jpg': 1, 'IMAGE_0598.jpg': 1, 'IMAGE_0599.jpg': 1, 'IMAGE_0600.jpg': 1, 'IMAGE_0601.jpg': 1, 'IMAGE_0602.jpg': 1, 'IMAGE_0603.jpg': 0, 'IMAGE_0604.jpg': 1, 'IMAGE_0605.jpg': 1, 'IMAGE_0606.jpg': 1, 'IMAGE_0607.jpg': 1, 'IMAGE_0608.jpg': 0, 'IMAGE_0609.jpg': 1, 'IMAGE_0610.jpg': 1, 'IMAGE_0611.jpg': 1, 'IMAGE_0612.jpg': 1, 'IMAGE_0613.jpg': 1, 'IMAGE_0614.jpg': 1, 'IMAGE_0615.jpg': 1, 'IMAGE_0616.jpg': 1, 'IMAGE_0617.jpg': 0, 'IMAGE_0618.jpg': 1, 'IMAGE_0619.jpg': 0, 'IMAGE_0620.jpg': 0, 'IMAGE_0621.jpg': 1, 'IMAGE_0622.jpg': 0, 'IMAGE_0623.jpg': 1, 'IMAGE_0624.jpg': 1, 'IMAGE_0625.jpg': 1, 'IMAGE_0626.jpg': 1, 'IMAGE_0627.jpg': 0, 'IMAGE_0628.jpg': 1, 'IMAGE_0629.jpg': 1, 'IMAGE_0630.jpg': 1, 'IMAGE_0631.jpg': 1, 'IMAGE_0632.jpg': 1, 'IMAGE_0633.jpg': 0, 'IMAGE_0634.jpg': 0, 'IMAGE_0635.jpg': 1, 'IMAGE_0636.jpg': 1, 'IMAGE_0637.jpg': 0, 'IMAGE_0638.jpg': 1, 'IMAGE_0639.jpg': 0, 'IMAGE_0640.jpg': 1, 'IMAGE_0641.jpg': 0, 'IMAGE_0642.jpg': 1, 'IMAGE_0643.jpg': 1, 'IMAGE_0644.jpg': 1, 'IMAGE_0645.jpg': 1, 'IMAGE_0646.jpg': 1, 'IMAGE_0647.jpg': 1, 'IMAGE_0648.jpg': 1, 'IMAGE_0649.jpg': 1, 'IMAGE_0650.jpg': 1, 'IMAGE_0651.jpg': 1, 'IMAGE_0652.jpg': 1, 'IMAGE_0653.jpg': 1, 'IMAGE_0654.jpg': 1, 'IMAGE_0655.jpg': 1, 'IMAGE_0656.jpg': 1, 'IMAGE_0657.jpg': 1, 'IMAGE_0658.jpg': 0, 'IMAGE_0659.jpg': 1, 'IMAGE_0660.jpg': 0, 'IMAGE_0661.jpg': 1, 'IMAGE_0662.jpg': 1, 'IMAGE_0663.jpg': 1, 'IMAGE_0664.jpg': 1, 'IMAGE_0665.jpg': 1, 'IMAGE_0666.jpg': 1, 'IMAGE_0667.jpg': 1, 'IMAGE_0668.jpg': 1, 'IMAGE_0669.jpg': 1, 'IMAGE_0670.jpg': 1, 'IMAGE_0671.jpg': 1, 'IMAGE_0672.jpg': 0, 'IMAGE_0673.jpg': 1, 'IMAGE_0674.jpg': 1, 'IMAGE_0675.jpg': 1, 'IMAGE_0676.jpg': 1, 'IMAGE_0677.jpg': 0, 'IMAGE_0678.jpg': 1, 'IMAGE_0679.jpg': 1, 'IMAGE_0680.jpg': 1, 'IMAGE_0681.jpg': 0, 'IMAGE_0682.jpg': 1, 'IMAGE_0683.jpg': 0, 'IMAGE_0684.jpg': 1, 'IMAGE_0685.jpg': 1, 'IMAGE_0686.jpg': 1, 'IMAGE_0687.jpg': 1, 'IMAGE_0688.jpg': 0, 'IMAGE_0689.jpg': 1, 'IMAGE_0690.jpg': 0, 'IMAGE_0691.jpg': 1, 'IMAGE_0692.jpg': 1, 'IMAGE_0693.jpg': 1, 'IMAGE_0694.jpg': 1, 'IMAGE_0695.jpg': 1, 'IMAGE_0696.jpg': 1, 'IMAGE_0697.jpg': 0, 'IMAGE_0698.jpg': 0, 'IMAGE_0699.jpg': 1, 'IMAGE_0700.jpg': 1, 'IMAGE_0701.jpg': 1, 'IMAGE_0702.jpg': 0, 'IMAGE_0703.jpg': 0, 'IMAGE_0704.jpg': 1, 'IMAGE_0705.jpg': 1, 'IMAGE_0706.jpg': 1, 'IMAGE_0707.jpg': 1, 'IMAGE_0708.jpg': 1, 'IMAGE_0709.jpg': 1, 'IMAGE_0710.jpg': 1, 'IMAGE_0711.jpg': 1, 'IMAGE_0712.jpg': 1, 'IMAGE_0713.jpg': 1, 'IMAGE_0714.jpg': 1, 'IMAGE_0715.jpg': 0, 'IMAGE_0716.jpg': 0, 'IMAGE_0717.jpg': 1, 'IMAGE_0718.jpg': 1, 'IMAGE_0719.jpg': 1, 'IMAGE_0720.jpg': 1, 'IMAGE_0721.jpg': 1, 'IMAGE_0722.jpg': 1, 'IMAGE_0723.jpg': 1, 'IMAGE_0724.jpg': 1, 'IMAGE_0725.jpg': 1, 'IMAGE_0726.jpg': 0, 'IMAGE_0727.jpg': 1, 'IMAGE_0728.jpg': 1, 'IMAGE_0729.jpg': 1, 'IMAGE_0730.jpg': 1, 'IMAGE_0731.jpg': 1, 'IMAGE_0732.jpg': 1, 'IMAGE_0733.jpg': 1, 'IMAGE_0734.jpg': 1, 'IMAGE_0735.jpg': 0, 'IMAGE_0736.jpg': 1, 'IMAGE_0737.jpg': 1, 'IMAGE_0738.jpg': 1, 'IMAGE_0739.jpg': 0, 'IMAGE_0740.jpg': 1, 'IMAGE_0741.jpg': 1, 'IMAGE_0742.jpg': 1, 'IMAGE_0743.jpg': 1, 'IMAGE_0744.jpg': 1, 'IMAGE_0745.jpg': 1, 'IMAGE_0746.jpg': 1, 'IMAGE_0747.jpg': 1, 'IMAGE_0748.jpg': 1, 'IMAGE_0749.jpg': 1, 'IMAGE_0750.jpg': 1, 'IMAGE_0751.jpg': 1, 'IMAGE_0752.jpg': 1, 'IMAGE_0753.jpg': 1, 'IMAGE_0754.jpg': 1, 'IMAGE_0755.jpg': 0, 'IMAGE_0756.jpg': 1, 'IMAGE_0757.jpg': 1, 'IMAGE_0758.jpg': 1, 'IMAGE_0759.jpg': 1, 'IMAGE_0760.jpg': 1, 'IMAGE_0761.jpg': 1, 'IMAGE_0762.jpg': 1, 'IMAGE_0763.jpg': 1, 'IMAGE_0764.jpg': 1, 'IMAGE_0765.jpg': 0, 'IMAGE_0766.jpg': 1, 'IMAGE_0767.jpg': 1, 'IMAGE_0768.jpg': 1, 'IMAGE_0769.jpg': 1, 'IMAGE_0770.jpg': 1, 'IMAGE_0771.jpg': 1, 'IMAGE_0772.jpg': 1, 'IMAGE_0773.jpg': 1, 'IMAGE_0774.jpg': 1, 'IMAGE_0775.jpg': 0, 'IMAGE_0776.jpg': 1, 'IMAGE_0777.jpg': 0, 'IMAGE_0778.jpg': 1, 'IMAGE_0779.jpg': 1, 'IMAGE_0780.jpg': 1, 'IMAGE_0781.jpg': 1, 'IMAGE_0782.jpg': 1, 'IMAGE_0783.jpg': 1, 'IMAGE_0784.jpg': 1, 'IMAGE_0785.jpg': 1, 'IMAGE_0786.jpg': 1, 'IMAGE_0787.jpg': 1, 'IMAGE_0788.jpg': 1, 'IMAGE_0789.jpg': 1, 'IMAGE_0790.jpg': 1, 'IMAGE_0791.jpg': 0, 'IMAGE_0792.jpg': 1, 'IMAGE_0793.jpg': 1, 'IMAGE_0794.jpg': 1, 'IMAGE_0795.jpg': 1, 'IMAGE_0796.jpg': 1, 'IMAGE_0797.jpg': 1, 'IMAGE_0798.jpg': 1, 'IMAGE_0799.jpg': 1, 'IMAGE_0800.jpg': 1, 'IMAGE_0801.jpg': 1, 'IMAGE_0802.jpg': 1, 'IMAGE_0803.jpg': 1, 'IMAGE_0804.jpg': 0, 'IMAGE_0805.jpg': 1, 'IMAGE_0806.jpg': 1, 'IMAGE_0807.jpg': 0, 'IMAGE_0808.jpg': 1, 'IMAGE_0809.jpg': 1, 'IMAGE_0810.jpg': 1, 'IMAGE_0811.jpg': 1, 'IMAGE_0812.jpg': 1, 'IMAGE_0813.jpg': 0, 'IMAGE_0814.jpg': 0, 'IMAGE_0815.jpg': 1, 'IMAGE_0816.jpg': 0, 'IMAGE_0817.jpg': 1, 'IMAGE_0818.jpg': 1, 'IMAGE_0819.jpg': 0, 'IMAGE_0820.jpg': 1, 'IMAGE_0821.jpg': 1, 'IMAGE_0822.jpg': 1, 'IMAGE_0823.jpg': 1, 'IMAGE_0824.jpg': 1, 'IMAGE_0825.jpg': 1, 'IMAGE_0826.jpg': 1, 'IMAGE_0827.jpg': 1, 'IMAGE_0828.jpg': 1, 'IMAGE_0829.jpg': 0, 'IMAGE_0830.jpg': 1, 'IMAGE_0831.jpg': 1, 'IMAGE_0832.jpg': 1, 'IMAGE_0833.jpg': 1, 'IMAGE_0834.jpg': 1, 'IMAGE_0835.jpg': 1, 'IMAGE_0836.jpg': 1, 'IMAGE_0837.jpg': 1, 'IMAGE_0838.jpg': 1, 'IMAGE_0839.jpg': 1, 'IMAGE_0840.jpg': 1, 'IMAGE_0841.jpg': 1, 'IMAGE_0842.jpg': 1, 'IMAGE_0843.jpg': 1, 'IMAGE_0844.jpg': 0, 'IMAGE_0845.jpg': 1, 'IMAGE_0846.jpg': 1, 'IMAGE_0847.jpg': 1, 'IMAGE_0848.jpg': 1, 'IMAGE_0849.jpg': 1, 'IMAGE_0850.jpg': 1, 'IMAGE_0851.jpg': 1, 'IMAGE_0852.jpg': 1, 'IMAGE_0853.jpg': 1, 'IMAGE_0854.jpg': 1, 'IMAGE_0855.jpg': 1, 'IMAGE_0856.jpg': 1, 'IMAGE_0857.jpg': 1, 'IMAGE_0858.jpg': 1, 'IMAGE_0859.jpg': 0, 'IMAGE_0860.jpg': 1, 'IMAGE_0861.jpg': 1, 'IMAGE_0862.jpg': 1, 'IMAGE_0863.jpg': 1, 'IMAGE_0864.jpg': 1, 'IMAGE_0865.jpg': 1, 'IMAGE_0866.jpg': 1, 'IMAGE_0867.jpg': 1, 'IMAGE_0868.jpg': 0, 'IMAGE_0869.jpg': 1, 'IMAGE_0870.jpg': 1, 'IMAGE_0871.jpg': 1, 'IMAGE_0872.jpg': 1, 'IMAGE_0873.jpg': 1, 'IMAGE_0874.jpg': 1, 'IMAGE_0875.jpg': 1, 'IMAGE_0876.jpg': 1, 'IMAGE_0877.jpg': 1, 'IMAGE_0878.jpg': 1, 'IMAGE_0879.jpg': 1, 'IMAGE_0880.jpg': 1, 'IMAGE_0881.jpg': 1, 'IMAGE_0882.jpg': 0, 'IMAGE_0883.jpg': 1, 'IMAGE_0884.jpg': 1, 'IMAGE_0885.jpg': 1, 'IMAGE_0886.jpg': 1, 'IMAGE_0887.jpg': 1, 'IMAGE_0888.jpg': 1, 'IMAGE_0889.jpg': 1, 'IMAGE_0890.jpg': 1, 'IMAGE_0891.jpg': 1, 'IMAGE_0892.jpg': 0, 'IMAGE_0893.jpg': 1, 'IMAGE_0894.jpg': 1, 'IMAGE_0895.jpg': 1, 'IMAGE_0896.jpg': 1, 'IMAGE_0897.jpg': 1, 'IMAGE_0898.jpg': 1, 'IMAGE_0899.jpg': 1, 'IMAGE_0900.jpg': 1, 'IMAGE_0901.jpg': 1, 'IMAGE_0902.jpg': 1, 'IMAGE_0903.jpg': 0, 'IMAGE_0904.jpg': 1, 'IMAGE_0905.jpg': 1, 'IMAGE_0906.jpg': 1, 'IMAGE_0907.jpg': 1, 'IMAGE_0908.jpg': 1, 'IMAGE_0909.jpg': 1, 'IMAGE_0910.jpg': 1, 'IMAGE_0911.jpg': 0, 'IMAGE_0912.jpg': 0, 'IMAGE_0913.jpg': 1, 'IMAGE_0914.jpg': 1, 'IMAGE_0915.jpg': 1, 'IMAGE_0916.jpg': 0, 'IMAGE_0917.jpg': 1, 'IMAGE_0918.jpg': 1, 'IMAGE_0919.jpg': 0, 'IMAGE_0920.jpg': 0, 'IMAGE_0921.jpg': 1, 'IMAGE_0922.jpg': 1, 'IMAGE_0923.jpg': 1, 'IMAGE_0924.jpg': 0, 'IMAGE_0925.jpg': 1, 'IMAGE_0926.jpg': 1, 'IMAGE_0927.jpg': 1, 'IMAGE_0928.jpg': 0, 'IMAGE_0929.jpg': 1, 'IMAGE_0930.jpg': 1, 'IMAGE_0931.jpg': 1, 'IMAGE_0932.jpg': 1, 'IMAGE_0933.jpg': 1, 'IMAGE_0934.jpg': 1, 'IMAGE_0935.jpg': 0, 'IMAGE_0936.jpg': 0, 'IMAGE_0937.jpg': 1, 'IMAGE_0938.jpg': 1, 'IMAGE_0939.jpg': 0, 'IMAGE_0940.jpg': 1, 'IMAGE_0941.jpg': 1, 'IMAGE_0942.jpg': 1, 'IMAGE_0943.jpg': 1, 'IMAGE_0944.jpg': 1, 'IMAGE_0945.jpg': 1, 'IMAGE_0946.jpg': 0, 'IMAGE_0947.jpg': 1, 'IMAGE_0948.jpg': 1, 'IMAGE_0949.jpg': 1, 'IMAGE_0950.jpg': 1, 'IMAGE_0951.jpg': 1, 'IMAGE_0952.jpg': 1, 'IMAGE_0953.jpg': 1, 'IMAGE_0954.jpg': 1, 'IMAGE_0955.jpg': 1, 'IMAGE_0956.jpg': 0, 'IMAGE_0957.jpg': 1, 'IMAGE_0958.jpg': 0, 'IMAGE_0959.jpg': 0, 'IMAGE_0960.jpg': 1, 'IMAGE_0961.jpg': 1, 'IMAGE_0962.jpg': 1, 'IMAGE_0963.jpg': 1, 'IMAGE_0964.jpg': 0, 'IMAGE_0965.jpg': 1, 'IMAGE_0966.jpg': 1, 'IMAGE_0967.jpg': 0, 'IMAGE_0968.jpg': 1, 'IMAGE_0969.jpg': 1, 'IMAGE_0970.jpg': 1, 'IMAGE_0971.jpg': 1, 'IMAGE_0972.jpg': 1, 'IMAGE_0973.jpg': 1, 'IMAGE_0974.jpg': 1, 'IMAGE_0975.jpg': 1, 'IMAGE_0976.jpg': 0, 'IMAGE_0977.jpg': 1, 'IMAGE_0978.jpg': 1, 'IMAGE_0979.jpg': 1, 'IMAGE_0980.jpg': 1, 'IMAGE_0981.jpg': 1, 'IMAGE_0982.jpg': 1, 'IMAGE_0983.jpg': 0, 'IMAGE_0984.jpg': 1, 'IMAGE_0985.jpg': 1, 'IMAGE_0986.jpg': 1, 'IMAGE_0987.jpg': 1, 'IMAGE_0988.jpg': 1, 'IMAGE_0989.jpg': 1, 'IMAGE_0990.jpg': 1, 'IMAGE_0991.jpg': 1, 'IMAGE_0992.jpg': 1, 'IMAGE_0993.jpg': 1, 'IMAGE_0994.jpg': 1, 'IMAGE_0995.jpg': 1, 'IMAGE_0996.jpg': 1, 'IMAGE_0997.jpg': 0, 'IMAGE_0998.jpg': 1, 'IMAGE_0999.jpg': 1, 'IMAGE_1000.jpg': 1, 'IMAGE_1001.jpg': 1, 'IMAGE_1002.jpg': 1, 'IMAGE_1003.jpg': 0, 'IMAGE_1004.jpg': 1, 'IMAGE_1005.jpg': 0, 'IMAGE_1006.jpg': 0, 'IMAGE_1007.jpg': 1, 'IMAGE_1008.jpg': 1, 'IMAGE_1009.jpg': 1, 'IMAGE_1010.jpg': 1, 'IMAGE_1011.jpg': 1, 'IMAGE_1012.jpg': 1, 'IMAGE_1013.jpg': 1, 'IMAGE_1014.jpg': 1, 'IMAGE_1015.jpg': 0, 'IMAGE_1016.jpg': 1, 'IMAGE_1017.jpg': 0, 'IMAGE_1018.jpg': 1, 'IMAGE_1019.jpg': 1, 'IMAGE_1020.jpg': 1, 'IMAGE_1021.jpg': 1, 'IMAGE_1022.jpg': 1, 'IMAGE_1023.jpg': 1, 'IMAGE_1024.jpg': 1, 'IMAGE_1025.jpg': 1, 'IMAGE_1026.jpg': 1, 'IMAGE_1027.jpg': 1, 'IMAGE_1028.jpg': 0, 'IMAGE_1029.jpg': 1, 'IMAGE_1030.jpg': 1, 'IMAGE_1031.jpg': 1, 'IMAGE_1032.jpg': 1, 'IMAGE_1033.jpg': 1, 'IMAGE_1034.jpg': 1, 'IMAGE_1035.jpg': 1, 'IMAGE_1036.jpg': 1, 'IMAGE_1037.jpg': 1, 'IMAGE_1038.jpg': 1, 'IMAGE_1039.jpg': 1, 'IMAGE_1040.jpg': 1, 'IMAGE_1041.jpg': 1, 'IMAGE_1042.jpg': 1, 'IMAGE_1043.jpg': 1, 'IMAGE_1044.jpg': 0, 'IMAGE_1045.jpg': 1, 'IMAGE_1046.jpg': 1, 'IMAGE_1047.jpg': 0, 'IMAGE_1048.jpg': 1, 'IMAGE_1049.jpg': 1, 'IMAGE_1050.jpg': 1, 'IMAGE_1051.jpg': 1, 'IMAGE_1052.jpg': 1, 'IMAGE_1053.jpg': 1, 'IMAGE_1054.jpg': 1, 'IMAGE_1055.jpg': 1, 'IMAGE_1056.jpg': 0, 'IMAGE_1057.jpg': 1, 'IMAGE_1058.jpg': 1, 'IMAGE_1059.jpg': 1, 'IMAGE_1060.jpg': 1, 'IMAGE_1061.jpg': 1, 'IMAGE_1062.jpg': 1, 'IMAGE_1063.jpg': 1, 'IMAGE_1064.jpg': 1, 'IMAGE_1065.jpg': 1, 'IMAGE_1066.jpg': 1, 'IMAGE_1067.jpg': 1, 'IMAGE_1068.jpg': 1, 'IMAGE_1069.jpg': 1, 'IMAGE_1070.jpg': 1, 'IMAGE_1071.jpg': 1, 'IMAGE_1072.jpg': 1, 'IMAGE_1073.jpg': 1, 'IMAGE_1074.jpg': 1, 'IMAGE_1075.jpg': 1, 'IMAGE_1076.jpg': 1, 'IMAGE_1077.jpg': 0, 'IMAGE_1078.jpg': 1, 'IMAGE_1079.jpg': 0, 'IMAGE_1080.jpg': 0, 'IMAGE_1081.jpg': 1, 'IMAGE_1082.jpg': 0, 'IMAGE_1083.jpg': 1, 'IMAGE_1084.jpg': 0, 'IMAGE_1085.jpg': 1, 'IMAGE_1086.jpg': 0, 'IMAGE_1087.jpg': 1, 'IMAGE_1088.jpg': 0, 'IMAGE_1089.jpg': 1, 'IMAGE_1090.jpg': 0, 'IMAGE_1091.jpg': 1, 'IMAGE_1092.jpg': 1, 'IMAGE_1093.jpg': 1, 'IMAGE_1094.jpg': 1, 'IMAGE_1095.jpg': 1, 'IMAGE_1096.jpg': 0, 'IMAGE_1097.jpg': 1, 'IMAGE_1098.jpg': 1, 'IMAGE_1099.jpg': 1, 'IMAGE_1100.jpg': 1, 'IMAGE_1101.jpg': 1, 'IMAGE_1102.jpg': 1, 'IMAGE_1103.jpg': 1, 'IMAGE_1104.jpg': 1, 'IMAGE_1105.jpg': 1, 'IMAGE_1106.jpg': 1, 'IMAGE_1107.jpg': 1, 'IMAGE_1108.jpg': 1, 'IMAGE_1109.jpg': 1, 'IMAGE_1110.jpg': 1, 'IMAGE_1111.jpg': 1, 'IMAGE_1112.jpg': 0, 'IMAGE_1113.jpg': 1, 'IMAGE_1114.jpg': 1, 'IMAGE_1115.jpg': 1, 'IMAGE_1116.jpg': 1, 'IMAGE_1117.jpg': 1, 'IMAGE_1118.jpg': 1, 'IMAGE_1119.jpg': 1, 'IMAGE_1120.jpg': 1, 'IMAGE_1121.jpg': 1, 'IMAGE_1122.jpg': 1, 'IMAGE_1123.jpg': 1, 'IMAGE_1124.jpg': 1, 'IMAGE_1125.jpg': 1, 'IMAGE_1126.jpg': 1, 'IMAGE_1127.jpg': 1, 'IMAGE_1128.jpg': 1, 'IMAGE_1129.jpg': 1, 'IMAGE_1130.jpg': 1, 'IMAGE_1131.jpg': 1, 'IMAGE_1132.jpg': 1, 'IMAGE_1133.jpg': 1, 'IMAGE_1134.jpg': 1, 'IMAGE_1135.jpg': 0, 'IMAGE_1136.jpg': 1, 'IMAGE_1137.jpg': 1, 'IMAGE_1138.jpg': 1, 'IMAGE_1139.jpg': 1, 'IMAGE_1140.jpg': 1, 'IMAGE_1141.jpg': 1, 'IMAGE_1142.jpg': 1, 'IMAGE_1143.jpg': 1, 'IMAGE_1144.jpg': 1, 'IMAGE_1145.jpg': 1, 'IMAGE_1146.jpg': 0, 'IMAGE_1147.jpg': 1, 'IMAGE_1148.jpg': 1, 'IMAGE_1149.jpg': 1, 'IMAGE_1150.jpg': 1, 'IMAGE_1151.jpg': 1, 'IMAGE_1152.jpg': 1, 'IMAGE_1153.jpg': 0, 'IMAGE_1154.jpg': 1, 'IMAGE_1155.jpg': 1, 'IMAGE_1156.jpg': 1, 'IMAGE_1157.jpg': 1, 'IMAGE_1158.jpg': 1, 'IMAGE_1159.jpg': 1, 'IMAGE_1160.jpg': 0, 'IMAGE_1161.jpg': 1, 'IMAGE_1162.jpg': 1, 'IMAGE_1163.jpg': 1, 'IMAGE_1164.jpg': 1, 'IMAGE_1165.jpg': 1, 'IMAGE_1166.jpg': 1, 'IMAGE_1167.jpg': 1, 'IMAGE_1168.jpg': 1, 'IMAGE_1169.jpg': 0, 'IMAGE_1170.jpg': 1, 'IMAGE_1171.jpg': 1, 'IMAGE_1172.jpg': 1, 'IMAGE_1173.jpg': 1, 'IMAGE_1174.jpg': 0, 'IMAGE_1175.jpg': 1, 'IMAGE_1176.jpg': 1, 'IMAGE_1177.jpg': 1, 'IMAGE_1178.jpg': 0, 'IMAGE_1179.jpg': 1, 'IMAGE_1180.jpg': 1, 'IMAGE_1181.jpg': 1, 'IMAGE_1182.jpg': 1, 'IMAGE_1183.jpg': 0, 'IMAGE_1184.jpg': 1, 'IMAGE_1185.jpg': 1, 'IMAGE_1186.jpg': 1, 'IMAGE_1187.jpg': 0, 'IMAGE_1188.jpg': 1, 'IMAGE_1189.jpg': 1, 'IMAGE_1190.jpg': 1, 'IMAGE_1191.jpg': 1, 'IMAGE_1192.jpg': 1, 'IMAGE_1193.jpg': 1, 'IMAGE_1194.jpg': 0, 'IMAGE_1195.jpg': 1, 'IMAGE_1196.jpg': 1, 'IMAGE_1197.jpg': 1, 'IMAGE_1198.jpg': 1, 'IMAGE_1199.jpg': 0, 'IMAGE_1200.jpg': 1, 'IMAGE_1201.jpg': 1, 'IMAGE_1202.jpg': 1, 'IMAGE_1203.jpg': 1, 'IMAGE_1204.jpg': 1, 'IMAGE_1205.jpg': 1, 'IMAGE_1206.jpg': 1, 'IMAGE_1207.jpg': 1, 'IMAGE_1208.jpg': 1, 'IMAGE_1209.jpg': 0, 'IMAGE_1210.jpg': 1, 'IMAGE_1211.jpg': 1, 'IMAGE_1212.jpg': 1, 'IMAGE_1213.jpg': 1, 'IMAGE_1214.jpg': 1, 'IMAGE_1215.jpg': 1, 'IMAGE_1216.jpg': 0, 'IMAGE_1217.jpg': 1, 'IMAGE_1218.jpg': 0, 'IMAGE_1219.jpg': 1, 'IMAGE_1220.jpg': 0, 'IMAGE_1221.jpg': 0, 'IMAGE_1222.jpg': 1, 'IMAGE_1223.jpg': 1, 'IMAGE_1224.jpg': 1, 'IMAGE_1225.jpg': 1, 'IMAGE_1226.jpg': 1, 'IMAGE_1227.jpg': 1, 'IMAGE_1228.jpg': 1, 'IMAGE_1229.jpg': 0, 'IMAGE_1230.jpg': 0, 'IMAGE_1231.jpg': 1, 'IMAGE_1232.jpg': 1, 'IMAGE_1233.jpg': 0, 'IMAGE_1234.jpg': 1, 'IMAGE_1235.jpg': 1, 'IMAGE_1236.jpg': 1, 'IMAGE_1237.jpg': 1, 'IMAGE_1238.jpg': 1, 'IMAGE_1239.jpg': 1, 'IMAGE_1240.jpg': 1, 'IMAGE_1241.jpg': 1, 'IMAGE_1242.jpg': 1, 'IMAGE_1243.jpg': 0, 'IMAGE_1244.jpg': 1, 'IMAGE_1245.jpg': 1, 'IMAGE_1246.jpg': 1, 'IMAGE_1247.jpg': 1, 'IMAGE_1248.jpg': 1, 'IMAGE_1249.jpg': 1, 'IMAGE_1250.jpg': 1, 'IMAGE_1251.jpg': 1, 'IMAGE_1252.jpg': 0, 'IMAGE_1253.jpg': 0, 'IMAGE_1254.jpg': 0, 'IMAGE_1255.jpg': 1, 'IMAGE_1256.jpg': 1, 'IMAGE_1257.jpg': 1, 'IMAGE_1258.jpg': 0, 'IMAGE_1259.jpg': 1, 'IMAGE_1260.jpg': 1, 'IMAGE_1261.jpg': 1, 'IMAGE_1262.jpg': 1, 'IMAGE_1263.jpg': 1, 'IMAGE_1264.jpg': 1, 'IMAGE_1265.jpg': 1, 'IMAGE_1266.jpg': 1, 'IMAGE_1267.jpg': 1, 'IMAGE_1268.jpg': 1, 'IMAGE_1269.jpg': 0, 'IMAGE_1270.jpg': 1, 'IMAGE_1271.jpg': 1, 'IMAGE_1272.jpg': 1, 'IMAGE_1273.jpg': 1, 'IMAGE_1274.jpg': 1, 'IMAGE_1275.jpg': 1, 'IMAGE_1276.jpg': 1, 'IMAGE_1277.jpg': 1, 'IMAGE_1278.jpg': 1, 'IMAGE_1279.jpg': 1, 'IMAGE_1280.jpg': 1, 'IMAGE_1281.jpg': 1, 'IMAGE_1282.jpg': 1, 'IMAGE_1283.jpg': 1, 'IMAGE_1284.jpg': 1, 'IMAGE_1285.jpg': 1, 'IMAGE_1286.jpg': 1, 'IMAGE_1287.jpg': 0, 'IMAGE_1288.jpg': 1, 'IMAGE_1289.jpg': 1, 'IMAGE_1290.jpg': 1, 'IMAGE_1291.jpg': 1, 'IMAGE_1292.jpg': 1, 'IMAGE_1293.jpg': 1, 'IMAGE_1294.jpg': 1, 'IMAGE_1295.jpg': 1, 'IMAGE_1296.jpg': 1, 'IMAGE_1297.jpg': 1, 'IMAGE_1298.jpg': 0, 'IMAGE_1299.jpg': 1, 'IMAGE_1300.jpg': 1, 'IMAGE_1301.jpg': 1, 'IMAGE_1302.jpg': 0, 'IMAGE_1303.jpg': 1, 'IMAGE_1304.jpg': 1, 'IMAGE_1305.jpg': 1, 'IMAGE_1306.jpg': 1, 'IMAGE_1307.jpg': 0, 'IMAGE_1308.jpg': 0, 'IMAGE_1309.jpg': 1, 'IMAGE_1310.jpg': 1, 'IMAGE_1311.jpg': 1, 'IMAGE_1312.jpg': 1, 'IMAGE_1313.jpg': 0, 'IMAGE_1314.jpg': 1, 'IMAGE_1315.jpg': 1, 'IMAGE_1316.jpg': 0, 'IMAGE_1317.jpg': 1, 'IMAGE_1318.jpg': 1, 'IMAGE_1319.jpg': 1, 'IMAGE_1320.jpg': 1, 'IMAGE_1321.jpg': 1, 'IMAGE_1322.jpg': 1, 'IMAGE_1323.jpg': 1, 'IMAGE_1324.jpg': 1, 'IMAGE_1325.jpg': 1, 'IMAGE_1326.jpg': 1, 'IMAGE_1327.jpg': 1, 'IMAGE_1328.jpg': 0, 'IMAGE_1329.jpg': 1, 'IMAGE_1330.jpg': 1, 'IMAGE_1331.jpg': 1, 'IMAGE_1332.jpg': 1, 'IMAGE_1333.jpg': 1, 'IMAGE_1334.jpg': 0, 'IMAGE_1335.jpg': 1, 'IMAGE_1336.jpg': 1, 'IMAGE_1337.jpg': 1, 'IMAGE_1338.jpg': 0, 'IMAGE_1339.jpg': 0, 'IMAGE_1340.jpg': 1, 'IMAGE_1341.jpg': 1, 'IMAGE_1342.jpg': 0, 'IMAGE_1343.jpg': 1, 'IMAGE_1344.jpg': 1, 'IMAGE_1345.jpg': 1, 'IMAGE_1346.jpg': 1, 'IMAGE_1347.jpg': 1, 'IMAGE_1348.jpg': 1, 'IMAGE_1349.jpg': 1, 'IMAGE_1350.jpg': 0, 'IMAGE_1351.jpg': 1, 'IMAGE_1352.jpg': 1, 'IMAGE_1353.jpg': 1, 'IMAGE_1354.jpg': 1, 'IMAGE_1355.jpg': 1, 'IMAGE_1356.jpg': 1, 'IMAGE_1357.jpg': 1, 'IMAGE_1358.jpg': 1, 'IMAGE_1359.jpg': 1, 'IMAGE_1360.jpg': 1, 'IMAGE_1361.jpg': 1, 'IMAGE_1362.jpg': 1, 'IMAGE_1363.jpg': 0, 'IMAGE_1364.jpg': 1, 'IMAGE_1365.jpg': 1, 'IMAGE_1366.jpg': 1, 'IMAGE_1367.jpg': 1, 'IMAGE_1368.jpg': 1, 'IMAGE_1369.jpg': 1, 'IMAGE_1370.jpg': 1, 'IMAGE_1371.jpg': 1, 'IMAGE_1372.jpg': 1, 'IMAGE_1373.jpg': 0, 'IMAGE_1374.jpg': 1, 'IMAGE_1375.jpg': 1, 'IMAGE_1376.jpg': 1, 'IMAGE_1377.jpg': 1, 'IMAGE_1378.jpg': 1, 'IMAGE_1379.jpg': 1, 'IMAGE_1380.jpg': 1, 'IMAGE_1381.jpg': 1, 'IMAGE_1382.jpg': 0, 'IMAGE_1383.jpg': 1, 'IMAGE_1384.jpg': 1, 'IMAGE_1385.jpg': 1, 'IMAGE_1386.jpg': 1, 'IMAGE_1387.jpg': 1, 'IMAGE_1388.jpg': 1, 'IMAGE_1389.jpg': 1, 'IMAGE_1390.jpg': 1, 'IMAGE_1391.jpg': 1, 'IMAGE_1392.jpg': 1, 'IMAGE_1393.jpg': 1, 'IMAGE_1394.jpg': 1, 'IMAGE_1395.jpg': 1, 'IMAGE_1396.jpg': 1, 'IMAGE_1397.jpg': 1, 'IMAGE_1398.jpg': 0, 'IMAGE_1399.jpg': 1, 'IMAGE_1400.jpg': 1, 'IMAGE_1401.jpg': 0, 'IMAGE_1402.jpg': 1, 'IMAGE_1403.jpg': 0, 'IMAGE_1404.jpg': 1, 'IMAGE_1405.jpg': 1, 'IMAGE_1406.jpg': 1, 'IMAGE_1407.jpg': 1, 'IMAGE_1408.jpg': 1, 'IMAGE_1409.jpg': 1, 'IMAGE_1410.jpg': 1, 'IMAGE_1411.jpg': 1, 'IMAGE_1412.jpg': 1, 'IMAGE_1413.jpg': 1, 'IMAGE_1414.jpg': 1, 'IMAGE_1415.jpg': 1, 'IMAGE_1416.jpg': 1, 'IMAGE_1417.jpg': 1, 'IMAGE_1418.jpg': 0, 'IMAGE_1419.jpg': 1, 'IMAGE_1420.jpg': 1, 'IMAGE_1421.jpg': 1, 'IMAGE_1422.jpg': 1, 'IMAGE_1423.jpg': 1, 'IMAGE_1424.jpg': 0, 'IMAGE_1425.jpg': 1, 'IMAGE_1426.jpg': 1, 'IMAGE_1427.jpg': 0, 'IMAGE_1428.jpg': 1, 'IMAGE_1429.jpg': 1, 'IMAGE_1430.jpg': 0, 'IMAGE_1431.jpg': 0, 'IMAGE_1432.jpg': 1, 'IMAGE_1433.jpg': 1, 'IMAGE_1434.jpg': 1, 'IMAGE_1435.jpg': 1, 'IMAGE_1436.jpg': 1, 'IMAGE_1437.jpg': 1, 'IMAGE_1438.jpg': 0, 'IMAGE_1439.jpg': 1, 'IMAGE_1440.jpg': 0, 'IMAGE_1441.jpg': 1, 'IMAGE_1442.jpg': 1, 'IMAGE_1443.jpg': 1, 'IMAGE_1444.jpg': 1, 'IMAGE_1445.jpg': 1, 'IMAGE_1446.jpg': 1, 'IMAGE_1447.jpg': 1, 'IMAGE_1448.jpg': 1, 'IMAGE_1449.jpg': 1, 'IMAGE_1450.jpg': 1, 'IMAGE_1451.jpg': 1, 'IMAGE_1452.jpg': 1, 'IMAGE_1453.jpg': 1, 'IMAGE_1454.jpg': 1, 'IMAGE_1455.jpg': 0, 'IMAGE_1456.jpg': 1, 'IMAGE_1457.jpg': 0, 'IMAGE_1458.jpg': 1, 'IMAGE_1459.jpg': 0, 'IMAGE_1460.jpg': 1, 'IMAGE_1461.jpg': 1, 'IMAGE_1462.jpg': 1, 'IMAGE_1463.jpg': 1, 'IMAGE_1464.jpg': 0, 'IMAGE_1465.jpg': 1, 'IMAGE_1466.jpg': 1, 'IMAGE_1467.jpg': 1, 'IMAGE_1468.jpg': 1, 'IMAGE_1469.jpg': 1, 'IMAGE_1470.jpg': 0, 'IMAGE_1471.jpg': 1, 'IMAGE_1472.jpg': 1, 'IMAGE_1473.jpg': 1, 'IMAGE_1474.jpg': 1, 'IMAGE_1475.jpg': 1, 'IMAGE_1476.jpg': 1, 'IMAGE_1477.jpg': 1, 'IMAGE_1478.jpg': 1, 'IMAGE_1479.jpg': 1, 'IMAGE_1480.jpg': 1, 'IMAGE_1481.jpg': 1, 'IMAGE_1482.jpg': 1, 'IMAGE_1483.jpg': 1, 'IMAGE_1484.jpg': 1, 'IMAGE_1485.jpg': 1, 'IMAGE_1486.jpg': 0, 'IMAGE_1487.jpg': 1, 'IMAGE_1488.jpg': 1, 'IMAGE_1489.jpg': 1, 'IMAGE_1490.jpg': 1, 'IMAGE_1491.jpg': 1, 'IMAGE_1492.jpg': 1, 'IMAGE_1493.jpg': 1, 'IMAGE_1494.jpg': 1, 'IMAGE_1495.jpg': 1, 'IMAGE_1496.jpg': 1, 'IMAGE_1497.jpg': 0, 'IMAGE_1498.jpg': 1, 'IMAGE_1499.jpg': 1, 'IMAGE_1500.jpg': 1, 'IMAGE_1501.jpg': 1, 'IMAGE_1502.jpg': 1, 'IMAGE_1503.jpg': 1, 'IMAGE_1504.jpg': 0, 'IMAGE_1505.jpg': 1, 'IMAGE_1506.jpg': 0, 'IMAGE_1507.jpg': 1, 'IMAGE_1508.jpg': 1, 'IMAGE_1509.jpg': 1, 'IMAGE_1510.jpg': 1, 'IMAGE_1511.jpg': 1, 'IMAGE_1512.jpg': 0, 'IMAGE_1513.jpg': 0, 'IMAGE_1514.jpg': 1, 'IMAGE_1515.jpg': 1, 'IMAGE_1516.jpg': 1, 'IMAGE_1517.jpg': 1, 'IMAGE_1518.jpg': 1, 'IMAGE_1519.jpg': 1, 'IMAGE_1520.jpg': 1, 'IMAGE_1521.jpg': 1, 'IMAGE_1522.jpg': 1, 'IMAGE_1523.jpg': 1, 'IMAGE_1524.jpg': 1, 'IMAGE_1525.jpg': 1, 'IMAGE_1526.jpg': 1, 'IMAGE_1527.jpg': 1, 'IMAGE_1528.jpg': 1, 'IMAGE_1529.jpg': 1, 'IMAGE_1530.jpg': 1, 'IMAGE_1531.jpg': 1, 'IMAGE_1532.jpg': 1, 'IMAGE_1533.jpg': 1, 'IMAGE_1534.jpg': 1, 'IMAGE_1535.jpg': 1, 'IMAGE_1536.jpg': 1, 'IMAGE_1537.jpg': 1, 'IMAGE_1538.jpg': 1, 'IMAGE_1539.jpg': 1, 'IMAGE_1540.jpg': 1, 'IMAGE_1541.jpg': 1, 'IMAGE_1542.jpg': 1, 'IMAGE_1543.jpg': 1, 'IMAGE_1544.jpg': 0, 'IMAGE_1545.jpg': 1, 'IMAGE_1546.jpg': 1, 'IMAGE_1547.jpg': 1, 'IMAGE_1548.jpg': 1, 'IMAGE_1549.jpg': 1, 'IMAGE_1550.jpg': 1, 'IMAGE_1551.jpg': 1, 'IMAGE_1552.jpg': 1, 'IMAGE_1553.jpg': 1, 'IMAGE_1554.jpg': 1, 'IMAGE_1555.jpg': 1, 'IMAGE_1556.jpg': 1, 'IMAGE_1557.jpg': 0, 'IMAGE_1558.jpg': 1, 'IMAGE_1559.jpg': 1, 'IMAGE_1560.jpg': 1, 'IMAGE_1561.jpg': 1, 'IMAGE_1562.jpg': 1, 'IMAGE_1563.jpg': 1, 'IMAGE_1564.jpg': 1, 'IMAGE_1565.jpg': 1, 'IMAGE_1566.jpg': 0, 'IMAGE_1567.jpg': 1, 'IMAGE_1568.jpg': 1, 'IMAGE_1569.jpg': 0, 'IMAGE_1570.jpg': 1, 'IMAGE_1571.jpg': 1, 'IMAGE_1572.jpg': 0, 'IMAGE_1573.jpg': 1, 'IMAGE_1574.jpg': 0, 'IMAGE_1575.jpg': 1, 'IMAGE_1576.jpg': 0, 'IMAGE_1577.jpg': 1, 'IMAGE_1578.jpg': 1, 'IMAGE_1579.jpg': 0, 'IMAGE_1580.jpg': 0, 'IMAGE_1581.jpg': 1, 'IMAGE_1582.jpg': 1, 'IMAGE_1583.jpg': 1, 'IMAGE_1584.jpg': 1, 'IMAGE_1585.jpg': 1, 'IMAGE_1586.jpg': 1, 'IMAGE_1587.jpg': 1, 'IMAGE_1588.jpg': 1, 'IMAGE_1589.jpg': 1, 'IMAGE_1590.jpg': 1, 'IMAGE_1591.jpg': 0, 'IMAGE_1592.jpg': 1, 'IMAGE_1593.jpg': 1, 'IMAGE_1594.jpg': 1, 'IMAGE_1595.jpg': 1, 'IMAGE_1596.jpg': 1, 'IMAGE_1597.jpg': 1, 'IMAGE_1598.jpg': 1, 'IMAGE_1599.jpg': 1, 'IMAGE_1600.jpg': 1, 'IMAGE_1601.jpg': 0, 'IMAGE_1602.jpg': 1, 'IMAGE_1603.jpg': 1, 'IMAGE_1604.jpg': 1, 'IMAGE_1605.jpg': 0, 'IMAGE_1606.jpg': 1, 'IMAGE_1607.jpg': 1, 'IMAGE_1608.jpg': 1, 'IMAGE_1609.jpg': 1, 'IMAGE_1610.jpg': 1, 'IMAGE_1611.jpg': 1, 'IMAGE_1612.jpg': 1, 'IMAGE_1613.jpg': 1, 'IMAGE_1614.jpg': 1, 'IMAGE_1615.jpg': 1, 'IMAGE_1616.jpg': 1, 'IMAGE_1617.jpg': 0, 'IMAGE_1618.jpg': 1, 'IMAGE_1619.jpg': 1, 'IMAGE_1620.jpg': 1, 'IMAGE_1621.jpg': 1, 'IMAGE_1622.jpg': 1, 'IMAGE_1623.jpg': 1, 'IMAGE_1624.jpg': 1, 'IMAGE_1625.jpg': 1, 'IMAGE_1626.jpg': 1, 'IMAGE_1627.jpg': 1, 'IMAGE_1628.jpg': 1, 'IMAGE_1629.jpg': 1, 'IMAGE_1630.jpg': 1, 'IMAGE_1631.jpg': 0, 'IMAGE_1632.jpg': 1, 'IMAGE_1633.jpg': 1, 'IMAGE_1634.jpg': 1, 'IMAGE_1635.jpg': 1, 'IMAGE_1636.jpg': 1, 'IMAGE_1637.jpg': 0, 'IMAGE_1638.jpg': 1, 'IMAGE_1639.jpg': 1, 'IMAGE_1640.jpg': 1, 'IMAGE_1641.jpg': 0, 'IMAGE_1642.jpg': 0, 'IMAGE_1643.jpg': 1, 'IMAGE_1644.jpg': 1, 'IMAGE_1645.jpg': 0, 'IMAGE_1646.jpg': 0, 'IMAGE_1647.jpg': 1, 'IMAGE_1648.jpg': 1, 'IMAGE_1649.jpg': 1, 'IMAGE_1650.jpg': 1, 'IMAGE_1651.jpg': 1, 'IMAGE_1652.jpg': 1, 'IMAGE_1653.jpg': 1, 'IMAGE_1654.jpg': 1, 'IMAGE_1655.jpg': 0, 'IMAGE_1656.jpg': 1, 'IMAGE_1657.jpg': 1, 'IMAGE_1658.jpg': 1, 'IMAGE_1659.jpg': 1, 'IMAGE_1660.jpg': 1, 'IMAGE_1661.jpg': 1, 'IMAGE_1662.jpg': 1, 'IMAGE_1663.jpg': 1, 'IMAGE_1664.jpg': 1, 'IMAGE_1665.jpg': 1, 'IMAGE_1666.jpg': 1, 'IMAGE_1667.jpg': 1, 'IMAGE_1668.jpg': 1, 'IMAGE_1669.jpg': 1, 'IMAGE_1670.jpg': 1, 'IMAGE_1671.jpg': 1, 'IMAGE_1672.jpg': 1, 'IMAGE_1673.jpg': 1, 'IMAGE_1674.jpg': 0, 'IMAGE_1675.jpg': 1, 'IMAGE_1676.jpg': 1, 'IMAGE_1677.jpg': 0, 'IMAGE_1678.jpg': 0, 'IMAGE_1679.jpg': 0, 'IMAGE_1680.jpg': 1, 'IMAGE_1681.jpg': 1, 'IMAGE_1682.jpg': 1, 'IMAGE_1683.jpg': 1, 'IMAGE_1684.jpg': 0, 'IMAGE_1685.jpg': 1, 'IMAGE_1686.jpg': 1, 'IMAGE_1687.jpg': 1, 'IMAGE_1688.jpg': 1, 'IMAGE_1689.jpg': 1, 'IMAGE_1690.jpg': 1, 'IMAGE_1691.jpg': 1, 'IMAGE_1692.jpg': 0, 'IMAGE_1693.jpg': 1, 'IMAGE_1694.jpg': 1, 'IMAGE_1695.jpg': 1, 'IMAGE_1696.jpg': 1, 'IMAGE_1697.jpg': 0, 'IMAGE_1698.jpg': 1, 'IMAGE_1699.jpg': 1, 'IMAGE_1700.jpg': 1, 'IMAGE_1701.jpg': 1, 'IMAGE_1702.jpg': 1, 'IMAGE_1703.jpg': 1, 'IMAGE_1704.jpg': 0, 'IMAGE_1705.jpg': 1, 'IMAGE_1706.jpg': 1, 'IMAGE_1707.jpg': 1, 'IMAGE_1708.jpg': 1, 'IMAGE_1709.jpg': 1, 'IMAGE_1710.jpg': 0, 'IMAGE_1711.jpg': 1, 'IMAGE_1712.jpg': 1, 'IMAGE_1713.jpg': 1, 'IMAGE_1714.jpg': 1, 'IMAGE_1715.jpg': 1, 'IMAGE_1716.jpg': 1, 'IMAGE_1717.jpg': 1, 'IMAGE_1718.jpg': 1, 'IMAGE_1719.jpg': 1, 'IMAGE_1720.jpg': 1, 'IMAGE_1721.jpg': 0, 'IMAGE_1722.jpg': 1, 'IMAGE_1723.jpg': 1, 'IMAGE_1724.jpg': 0, 'IMAGE_1725.jpg': 1, 'IMAGE_1726.jpg': 1, 'IMAGE_1727.jpg': 1, 'IMAGE_1728.jpg': 1, 'IMAGE_1729.jpg': 1, 'IMAGE_1730.jpg': 1, 'IMAGE_1731.jpg': 1, 'IMAGE_1732.jpg': 1, 'IMAGE_1733.jpg': 1, 'IMAGE_1734.jpg': 1, 'IMAGE_1735.jpg': 1, 'IMAGE_1736.jpg': 1, 'IMAGE_1737.jpg': 1, 'IMAGE_1738.jpg': 0, 'IMAGE_1739.jpg': 0, 'IMAGE_1740.jpg': 1, 'IMAGE_1741.jpg': 1, 'IMAGE_1742.jpg': 1, 'IMAGE_1743.jpg': 1, 'IMAGE_1744.jpg': 1, 'IMAGE_1745.jpg': 0, 'IMAGE_1746.jpg': 0, 'IMAGE_1747.jpg': 1, 'IMAGE_1748.jpg': 1, 'IMAGE_1749.jpg': 1, 'IMAGE_1750.jpg': 1, 'IMAGE_1751.jpg': 1, 'IMAGE_1752.jpg': 1, 'IMAGE_1753.jpg': 1, 'IMAGE_1754.jpg': 1, 'IMAGE_1755.jpg': 0, 'IMAGE_1756.jpg': 0, 'IMAGE_1757.jpg': 1, 'IMAGE_1758.jpg': 1, 'IMAGE_1759.jpg': 1, 'IMAGE_1760.jpg': 1, 'IMAGE_1761.jpg': 1, 'IMAGE_1762.jpg': 1, 'IMAGE_1763.jpg': 1, 'IMAGE_1764.jpg': 1, 'IMAGE_1765.jpg': 1, 'IMAGE_1766.jpg': 1, 'IMAGE_1767.jpg': 1, 'IMAGE_1768.jpg': 0, 'IMAGE_1769.jpg': 1, 'IMAGE_1770.jpg': 0, 'IMAGE_1771.jpg': 0, 'IMAGE_1772.jpg': 0, 'IMAGE_1773.jpg': 1, 'IMAGE_1774.jpg': 1, 'IMAGE_1775.jpg': 1, 'IMAGE_1776.jpg': 1, 'IMAGE_1777.jpg': 0, 'IMAGE_1778.jpg': 1, 'IMAGE_1779.jpg': 1, 'IMAGE_1780.jpg': 1, 'IMAGE_1781.jpg': 1, 'IMAGE_1782.jpg': 1, 'IMAGE_1783.jpg': 1, 'IMAGE_1784.jpg': 0, 'IMAGE_1785.jpg': 1, 'IMAGE_1786.jpg': 1, 'IMAGE_1787.jpg': 1, 'IMAGE_1788.jpg': 1, 'IMAGE_1789.jpg': 1, 'IMAGE_1790.jpg': 1, 'IMAGE_1791.jpg': 1, 'IMAGE_1792.jpg': 0, 'IMAGE_1793.jpg': 1, 'IMAGE_1794.jpg': 1, 'IMAGE_1795.jpg': 1, 'IMAGE_1796.jpg': 1, 'IMAGE_1797.jpg': 1, 'IMAGE_1798.jpg': 0, 'IMAGE_1799.jpg': 1, 'IMAGE_1800.jpg': 1, 'IMAGE_1801.jpg': 1, 'IMAGE_1802.jpg': 0, 'IMAGE_1803.jpg': 0, 'IMAGE_1804.jpg': 1, 'IMAGE_1805.jpg': 1, 'IMAGE_1806.jpg': 1, 'IMAGE_1807.jpg': 1, 'IMAGE_1808.jpg': 1, 'IMAGE_1809.jpg': 1, 'IMAGE_1810.jpg': 1, 'IMAGE_1811.jpg': 0, 'IMAGE_1812.jpg': 1, 'IMAGE_1813.jpg': 1, 'IMAGE_1814.jpg': 0, 'IMAGE_1815.jpg': 1, 'IMAGE_1816.jpg': 1, 'IMAGE_1817.jpg': 0, 'IMAGE_1818.jpg': 0, 'IMAGE_1819.jpg': 1, 'IMAGE_1820.jpg': 1, 'IMAGE_1821.jpg': 1, 'IMAGE_1822.jpg': 0, 'IMAGE_1823.jpg': 0, 'IMAGE_1824.jpg': 1, 'IMAGE_1825.jpg': 1, 'IMAGE_1826.jpg': 1, 'IMAGE_1827.jpg': 1, 'IMAGE_1828.jpg': 1, 'IMAGE_1829.jpg': 1, 'IMAGE_1830.jpg': 1, 'IMAGE_1831.jpg': 1, 'IMAGE_1832.jpg': 1, 'IMAGE_1833.jpg': 1, 'IMAGE_1834.jpg': 1, 'IMAGE_1835.jpg': 1, 'IMAGE_1836.jpg': 1, 'IMAGE_1837.jpg': 1, 'IMAGE_1838.jpg': 1, 'IMAGE_1839.jpg': 1, 'IMAGE_1840.jpg': 1, 'IMAGE_1841.jpg': 1, 'IMAGE_1842.jpg': 1, 'IMAGE_1843.jpg': 1, 'IMAGE_1844.jpg': 1, 'IMAGE_1845.jpg': 1, 'IMAGE_1846.jpg': 1, 'IMAGE_1847.jpg': 1, 'IMAGE_1848.jpg': 1, 'IMAGE_1849.jpg': 1, 'IMAGE_1850.jpg': 1, 'IMAGE_1851.jpg': 1, 'IMAGE_1852.jpg': 0, 'IMAGE_1853.jpg': 1, 'IMAGE_1854.jpg': 1, 'IMAGE_1855.jpg': 1, 'IMAGE_1856.jpg': 1, 'IMAGE_1857.jpg': 1, 'IMAGE_1858.jpg': 0, 'IMAGE_1859.jpg': 0, 'IMAGE_1860.jpg': 1, 'IMAGE_1861.jpg': 1, 'IMAGE_1862.jpg': 1, 'IMAGE_1863.jpg': 1, 'IMAGE_1864.jpg': 1, 'IMAGE_1865.jpg': 1, 'IMAGE_1866.jpg': 0, 'IMAGE_1867.jpg': 1, 'IMAGE_1868.jpg': 1, 'IMAGE_1869.jpg': 0, 'IMAGE_1870.jpg': 1, 'IMAGE_1871.jpg': 1, 'IMAGE_1872.jpg': 1, 'IMAGE_1873.jpg': 1, 'IMAGE_1874.jpg': 1, 'IMAGE_1875.jpg': 1, 'IMAGE_1876.jpg': 1, 'IMAGE_1877.jpg': 1, 'IMAGE_1878.jpg': 1, 'IMAGE_1879.jpg': 1, 'IMAGE_1880.jpg': 1, 'IMAGE_1881.jpg': 1, 'IMAGE_1882.jpg': 1, 'IMAGE_1883.jpg': 1, 'IMAGE_1884.jpg': 1, 'IMAGE_1885.jpg': 1, 'IMAGE_1886.jpg': 0, 'IMAGE_1887.jpg': 0, 'IMAGE_1888.jpg': 1, 'IMAGE_1889.jpg': 1, 'IMAGE_1890.jpg': 1, 'IMAGE_1891.jpg': 1, 'IMAGE_1892.jpg': 1, 'IMAGE_1893.jpg': 1, 'IMAGE_1894.jpg': 1, 'IMAGE_1895.jpg': 1, 'IMAGE_1896.jpg': 1, 'IMAGE_1897.jpg': 0, 'IMAGE_1898.jpg': 1, 'IMAGE_1899.jpg': 1, 'IMAGE_1900.jpg': 1, 'IMAGE_1901.jpg': 1, 'IMAGE_1902.jpg': 1, 'IMAGE_1903.jpg': 1, 'IMAGE_1904.jpg': 1, 'IMAGE_1905.jpg': 1, 'IMAGE_1906.jpg': 1, 'IMAGE_1907.jpg': 0, 'IMAGE_1908.jpg': 1, 'IMAGE_1909.jpg': 1, 'IMAGE_1910.jpg': 1, 'IMAGE_1911.jpg': 1, 'IMAGE_1912.jpg': 1, 'IMAGE_1913.jpg': 1, 'IMAGE_1914.jpg': 1, 'IMAGE_1915.jpg': 1, 'IMAGE_1916.jpg': 1, 'IMAGE_1917.jpg': 1, 'IMAGE_1918.jpg': 1, 'IMAGE_1919.jpg': 1, 'IMAGE_1920.jpg': 1, 'IMAGE_1921.jpg': 1, 'IMAGE_1922.jpg': 1, 'IMAGE_1923.jpg': 0, 'IMAGE_1924.jpg': 1, 'IMAGE_1925.jpg': 1, 'IMAGE_1926.jpg': 1, 'IMAGE_1927.jpg': 1, 'IMAGE_1928.jpg': 1, 'IMAGE_1929.jpg': 1, 'IMAGE_1930.jpg': 1, 'IMAGE_1931.jpg': 0, 'IMAGE_1932.jpg': 0, 'IMAGE_1933.jpg': 1, 'IMAGE_1934.jpg': 1, 'IMAGE_1935.jpg': 1, 'IMAGE_1936.jpg': 1, 'IMAGE_1937.jpg': 0, 'IMAGE_1938.jpg': 1, 'IMAGE_1939.jpg': 1, 'IMAGE_1940.jpg': 1, 'IMAGE_1941.jpg': 1, 'IMAGE_1942.jpg': 0, 'IMAGE_1943.jpg': 1, 'IMAGE_1944.jpg': 1, 'IMAGE_1945.jpg': 1, 'IMAGE_1946.jpg': 1, 'IMAGE_1947.jpg': 1, 'IMAGE_1948.jpg': 1, 'IMAGE_1949.jpg': 1, 'IMAGE_1950.jpg': 1, 'IMAGE_1951.jpg': 1, 'IMAGE_1952.jpg': 1, 'IMAGE_1953.jpg': 1, 'IMAGE_1954.jpg': 1, 'IMAGE_1955.jpg': 1, 'IMAGE_1956.jpg': 1, 'IMAGE_1957.jpg': 1, 'IMAGE_1958.jpg': 1, 'IMAGE_1959.jpg': 1, 'IMAGE_1960.jpg': 0, 'IMAGE_1961.jpg': 1, 'IMAGE_1962.jpg': 0, 'IMAGE_1963.jpg': 1, 'IMAGE_1964.jpg': 1, 'IMAGE_1965.jpg': 1, 'IMAGE_1966.jpg': 1, 'IMAGE_1967.jpg': 1, 'IMAGE_1968.jpg': 0, 'IMAGE_1969.jpg': 1, 'IMAGE_1970.jpg': 1, 'IMAGE_1971.jpg': 1, 'IMAGE_1972.jpg': 1, 'IMAGE_1973.jpg': 0, 'IMAGE_1974.jpg': 1, 'IMAGE_1975.jpg': 1, 'IMAGE_1976.jpg': 1, 'IMAGE_1977.jpg': 1, 'IMAGE_1978.jpg': 1, 'IMAGE_1979.jpg': 1, 'IMAGE_1980.jpg': 1, 'IMAGE_1981.jpg': 1, 'IMAGE_1982.jpg': 1, 'IMAGE_1983.jpg': 1, 'IMAGE_1984.jpg': 1, 'IMAGE_1985.jpg': 0, 'IMAGE_1986.jpg': 1, 'IMAGE_1987.jpg': 1, 'IMAGE_1988.jpg': 1, 'IMAGE_1989.jpg': 1, 'IMAGE_1990.jpg': 1, 'IMAGE_1991.jpg': 1, 'IMAGE_1992.jpg': 1, 'IMAGE_1993.jpg': 0, 'IMAGE_1994.jpg': 1, 'IMAGE_1995.jpg': 0, 'IMAGE_1996.jpg': 0, 'IMAGE_1997.jpg': 1, 'IMAGE_1998.jpg': 1, 'IMAGE_1999.jpg': 1, 'IMAGE_2000.jpg': 1, 'IMAGE_2001.jpg': 1, 'IMAGE_2002.jpg': 1, 'IMAGE_2003.jpg': 1, 'IMAGE_2004.jpg': 1, 'IMAGE_2005.jpg': 0, 'IMAGE_2006.jpg': 1, 'IMAGE_2007.jpg': 0, 'IMAGE_2008.jpg': 1, 'IMAGE_2009.jpg': 1, 'IMAGE_2010.jpg': 1, 'IMAGE_2011.jpg': 1, 'IMAGE_2012.jpg': 1, 'IMAGE_2013.jpg': 1, 'IMAGE_2014.jpg': 0, 'IMAGE_2015.jpg': 1, 'IMAGE_2016.jpg': 1, 'IMAGE_2017.jpg': 1, 'IMAGE_2018.jpg': 1, 'IMAGE_2019.jpg': 1, 'IMAGE_2020.jpg': 1, 'IMAGE_2021.jpg': 1, 'IMAGE_2022.jpg': 1, 'IMAGE_2023.jpg': 1, 'IMAGE_2024.jpg': 1, 'IMAGE_2025.jpg': 1, 'IMAGE_2026.jpg': 1, 'IMAGE_2027.jpg': 1, 'IMAGE_2028.jpg': 1, 'IMAGE_2029.jpg': 1, 'IMAGE_2030.jpg': 1, 'IMAGE_2031.jpg': 1, 'IMAGE_2032.jpg': 1, 'IMAGE_2033.jpg': 1, 'IMAGE_2034.jpg': 1, 'IMAGE_2035.jpg': 1, 'IMAGE_2036.jpg': 1, 'IMAGE_2037.jpg': 1, 'IMAGE_2038.jpg': 1, 'IMAGE_2039.jpg': 1, 'IMAGE_2040.jpg': 1, 'IMAGE_2041.jpg': 0, 'IMAGE_2042.jpg': 1, 'IMAGE_2043.jpg': 1, 'IMAGE_2044.jpg': 0, 'IMAGE_2045.jpg': 1, 'IMAGE_2046.jpg': 1, 'IMAGE_2047.jpg': 1, 'IMAGE_2048.jpg': 1, 'IMAGE_2049.jpg': 1, 'IMAGE_2050.jpg': 0, 'IMAGE_2051.jpg': 1, 'IMAGE_2052.jpg': 1, 'IMAGE_2053.jpg': 1, 'IMAGE_2054.jpg': 0, 'IMAGE_2055.jpg': 1, 'IMAGE_2056.jpg': 1, 'IMAGE_2057.jpg': 1, 'IMAGE_2058.jpg': 1, 'IMAGE_2059.jpg': 1, 'IMAGE_2060.jpg': 1, 'IMAGE_2061.jpg': 1, 'IMAGE_2062.jpg': 1, 'IMAGE_2063.jpg': 1, 'IMAGE_2064.jpg': 1, 'IMAGE_2065.jpg': 1, 'IMAGE_2066.jpg': 1, 'IMAGE_2067.jpg': 1, 'IMAGE_2068.jpg': 1, 'IMAGE_2069.jpg': 1, 'IMAGE_2070.jpg': 1, 'IMAGE_2071.jpg': 1, 'IMAGE_2072.jpg': 0, 'IMAGE_2073.jpg': 1, 'IMAGE_2074.jpg': 1, 'IMAGE_2075.jpg': 1, 'IMAGE_2076.jpg': 1, 'IMAGE_2077.jpg': 1, 'IMAGE_2078.jpg': 1, 'IMAGE_2079.jpg': 1, 'IMAGE_2080.jpg': 1, 'IMAGE_2081.jpg': 1, 'IMAGE_2082.jpg': 1, 'IMAGE_2083.jpg': 0, 'IMAGE_2084.jpg': 1, 'IMAGE_2085.jpg': 1, 'IMAGE_2086.jpg': 1, 'IMAGE_2087.jpg': 1, 'IMAGE_2088.jpg': 1, 'IMAGE_2089.jpg': 0, 'IMAGE_2090.jpg': 1, 'IMAGE_2091.jpg': 1, 'IMAGE_2092.jpg': 1, 'IMAGE_2093.jpg': 1, 'IMAGE_2094.jpg': 1, 'IMAGE_2095.jpg': 0, 'IMAGE_2096.jpg': 1, 'IMAGE_2097.jpg': 1, 'IMAGE_2098.jpg': 0, 'IMAGE_2099.jpg': 1, 'IMAGE_2100.jpg': 1, 'IMAGE_2101.jpg': 1, 'IMAGE_2102.jpg': 1, 'IMAGE_2103.jpg': 1, 'IMAGE_2104.jpg': 0, 'IMAGE_2105.jpg': 0, 'IMAGE_2106.jpg': 1, 'IMAGE_2107.jpg': 1, 'IMAGE_2108.jpg': 0, 'IMAGE_2109.jpg': 1, 'IMAGE_2110.jpg': 1, 'IMAGE_2111.jpg': 0, 'IMAGE_2112.jpg': 1, 'IMAGE_2113.jpg': 1, 'IMAGE_2114.jpg': 1, 'IMAGE_2115.jpg': 1, 'IMAGE_2116.jpg': 1, 'IMAGE_2117.jpg': 1, 'IMAGE_2118.jpg': 1, 'IMAGE_2119.jpg': 1, 'IMAGE_2120.jpg': 1, 'IMAGE_2121.jpg': 1, 'IMAGE_2122.jpg': 1, 'IMAGE_2123.jpg': 1, 'IMAGE_2124.jpg': 1, 'IMAGE_2125.jpg': 0, 'IMAGE_2126.jpg': 1, 'IMAGE_2127.jpg': 1, 'IMAGE_2128.jpg': 1, 'IMAGE_2129.jpg': 1, 'IMAGE_2130.jpg': 1, 'IMAGE_2131.jpg': 1, 'IMAGE_2132.jpg': 1, 'IMAGE_2133.jpg': 1, 'IMAGE_2134.jpg': 1, 'IMAGE_2135.jpg': 1, 'IMAGE_2136.jpg': 1, 'IMAGE_2137.jpg': 1, 'IMAGE_2138.jpg': 1, 'IMAGE_2139.jpg': 1, 'IMAGE_2140.jpg': 1, 'IMAGE_2141.jpg': 1, 'IMAGE_2142.jpg': 0, 'IMAGE_2143.jpg': 1, 'IMAGE_2144.jpg': 1, 'IMAGE_2145.jpg': 0, 'IMAGE_2146.jpg': 1, 'IMAGE_2147.jpg': 0, 'IMAGE_2148.jpg': 1, 'IMAGE_2149.jpg': 1, 'IMAGE_2150.jpg': 1, 'IMAGE_2151.jpg': 1, 'IMAGE_2152.jpg': 1, 'IMAGE_2153.jpg': 1, 'IMAGE_2154.jpg': 0, 'IMAGE_2155.jpg': 1, 'IMAGE_2156.jpg': 1, 'IMAGE_2157.jpg': 1, 'IMAGE_2158.jpg': 1, 'IMAGE_2159.jpg': 0, 'IMAGE_2160.jpg': 1, 'IMAGE_2161.jpg': 1, 'IMAGE_2162.jpg': 1, 'IMAGE_2163.jpg': 0, 'IMAGE_2164.jpg': 1, 'IMAGE_2165.jpg': 1, 'IMAGE_2166.jpg': 1, 'IMAGE_2167.jpg': 1, 'IMAGE_2168.jpg': 1, 'IMAGE_2169.jpg': 1, 'IMAGE_2170.jpg': 1, 'IMAGE_2171.jpg': 0, 'IMAGE_2172.jpg': 1, 'IMAGE_2173.jpg': 1, 'IMAGE_2174.jpg': 1, 'IMAGE_2175.jpg': 1, 'IMAGE_2176.jpg': 1, 'IMAGE_2177.jpg': 1, 'IMAGE_2178.jpg': 1, 'IMAGE_2179.jpg': 1, 'IMAGE_2180.jpg': 0, 'IMAGE_2181.jpg': 1, 'IMAGE_2182.jpg': 1, 'IMAGE_2183.jpg': 1, 'IMAGE_2184.jpg': 1, 'IMAGE_2185.jpg': 1, 'IMAGE_2186.jpg': 1, 'IMAGE_2187.jpg': 1, 'IMAGE_2188.jpg': 1, 'IMAGE_2189.jpg': 1, 'IMAGE_2190.jpg': 1, 'IMAGE_2191.jpg': 0, 'IMAGE_2192.jpg': 1, 'IMAGE_2193.jpg': 1, 'IMAGE_2194.jpg': 1, 'IMAGE_2195.jpg': 1, 'IMAGE_2196.jpg': 1, 'IMAGE_2197.jpg': 1, 'IMAGE_2198.jpg': 1, 'IMAGE_2199.jpg': 1, 'IMAGE_2200.jpg': 1, 'IMAGE_2201.jpg': 1, 'IMAGE_2202.jpg': 1, 'IMAGE_2203.jpg': 1, 'IMAGE_2204.jpg': 0, 'IMAGE_2205.jpg': 1, 'IMAGE_2206.jpg': 1, 'IMAGE_2207.jpg': 1, 'IMAGE_2208.jpg': 1, 'IMAGE_2209.jpg': 1, 'IMAGE_2210.jpg': 1, 'IMAGE_2211.jpg': 1, 'IMAGE_2212.jpg': 1, 'IMAGE_2213.jpg': 1, 'IMAGE_2214.jpg': 1, 'IMAGE_2215.jpg': 1, 'IMAGE_2216.jpg': 1, 'IMAGE_2217.jpg': 1, 'IMAGE_2218.jpg': 1, 'IMAGE_2219.jpg': 1, 'IMAGE_2220.jpg': 1, 'IMAGE_2221.jpg': 1, 'IMAGE_2222.jpg': 1, 'IMAGE_2223.jpg': 1, 'IMAGE_2224.jpg': 1, 'IMAGE_2225.jpg': 1, 'IMAGE_2226.jpg': 1, 'IMAGE_2227.jpg': 0, 'IMAGE_2228.jpg': 1, 'IMAGE_2229.jpg': 1, 'IMAGE_2230.jpg': 1, 'IMAGE_2231.jpg': 1, 'IMAGE_2232.jpg': 1, 'IMAGE_2233.jpg': 1, 'IMAGE_2234.jpg': 1, 'IMAGE_2235.jpg': 1, 'IMAGE_2236.jpg': 1, 'IMAGE_2237.jpg': 1, 'IMAGE_2238.jpg': 1, 'IMAGE_2239.jpg': 0, 'IMAGE_2240.jpg': 1, 'IMAGE_2241.jpg': 1, 'IMAGE_2242.jpg': 1, 'IMAGE_2243.jpg': 1, 'IMAGE_2244.jpg': 1, 'IMAGE_2245.jpg': 1, 'IMAGE_2246.jpg': 1, 'IMAGE_2247.jpg': 1, 'IMAGE_2248.jpg': 1, 'IMAGE_2249.jpg': 1, 'IMAGE_2250.jpg': 1, 'IMAGE_2251.jpg': 1, 'IMAGE_2252.jpg': 1, 'IMAGE_2253.jpg': 1, 'IMAGE_2254.jpg': 1, 'IMAGE_2255.jpg': 1, 'IMAGE_2256.jpg': 1, 'IMAGE_2257.jpg': 1, 'IMAGE_2258.jpg': 1, 'IMAGE_2259.jpg': 1, 'IMAGE_2260.jpg': 1, 'IMAGE_2261.jpg': 0, 'IMAGE_2262.jpg': 0, 'IMAGE_2263.jpg': 1, 'IMAGE_2264.jpg': 1, 'IMAGE_2265.jpg': 1, 'IMAGE_2266.jpg': 1, 'IMAGE_2267.jpg': 1, 'IMAGE_2268.jpg': 1, 'IMAGE_2269.jpg': 1, 'IMAGE_2270.jpg': 1, 'IMAGE_2271.jpg': 1, 'IMAGE_2272.jpg': 1, 'IMAGE_2273.jpg': 1, 'IMAGE_2274.jpg': 1, 'IMAGE_2275.jpg': 1, 'IMAGE_2276.jpg': 1, 'IMAGE_2277.jpg': 1, 'IMAGE_2278.jpg': 1, 'IMAGE_2279.jpg': 0, 'IMAGE_2280.jpg': 1, 'IMAGE_2281.jpg': 1, 'IMAGE_2282.jpg': 1, 'IMAGE_2283.jpg': 1, 'IMAGE_2284.jpg': 1, 'IMAGE_2285.jpg': 1, 'IMAGE_2286.jpg': 1, 'IMAGE_2287.jpg': 1, 'IMAGE_2288.jpg': 1, 'IMAGE_2289.jpg': 1, 'IMAGE_2290.jpg': 1, 'IMAGE_2291.jpg': 1, 'IMAGE_2292.jpg': 1, 'IMAGE_2293.jpg': 1, 'IMAGE_2294.jpg': 0, 'IMAGE_2295.jpg': 1, 'IMAGE_2296.jpg': 1, 'IMAGE_2297.jpg': 1, 'IMAGE_2298.jpg': 1, 'IMAGE_2299.jpg': 1, 'IMAGE_2300.jpg': 1, 'IMAGE_2301.jpg': 1, 'IMAGE_2302.jpg': 1, 'IMAGE_2303.jpg': 0, 'IMAGE_2304.jpg': 1, 'IMAGE_2305.jpg': 1, 'IMAGE_2306.jpg': 0, 'IMAGE_2307.jpg': 0, 'IMAGE_2308.jpg': 1, 'IMAGE_2309.jpg': 1, 'IMAGE_2310.jpg': 1, 'IMAGE_2311.jpg': 1, 'IMAGE_2312.jpg': 1, 'IMAGE_2313.jpg': 0, 'IMAGE_2314.jpg': 1, 'IMAGE_2315.jpg': 1, 'IMAGE_2316.jpg': 1, 'IMAGE_2317.jpg': 1, 'IMAGE_2318.jpg': 0, 'IMAGE_2319.jpg': 1, 'IMAGE_2320.jpg': 0, 'IMAGE_2321.jpg': 0, 'IMAGE_2322.jpg': 1, 'IMAGE_2323.jpg': 1, 'IMAGE_2324.jpg': 1, 'IMAGE_2325.jpg': 0, 'IMAGE_2326.jpg': 0, 'IMAGE_2327.jpg': 1, 'IMAGE_2328.jpg': 0, 'IMAGE_2329.jpg': 1, 'IMAGE_2330.jpg': 1, 'IMAGE_2331.jpg': 1, 'IMAGE_2332.jpg': 1, 'IMAGE_2333.jpg': 1, 'IMAGE_2334.jpg': 1, 'IMAGE_2335.jpg': 0, 'IMAGE_2336.jpg': 1, 'IMAGE_2337.jpg': 1, 'IMAGE_2338.jpg': 1, 'IMAGE_2339.jpg': 1, 'IMAGE_2340.jpg': 1, 'IMAGE_2341.jpg': 1, 'IMAGE_2342.jpg': 1, 'IMAGE_2343.jpg': 1, 'IMAGE_2344.jpg': 1, 'IMAGE_2345.jpg': 1, 'IMAGE_2346.jpg': 1, 'IMAGE_2347.jpg': 1, 'IMAGE_2348.jpg': 1, 'IMAGE_2349.jpg': 1, 'IMAGE_2350.jpg': 1, 'IMAGE_2351.jpg': 1, 'IMAGE_2352.jpg': 0, 'IMAGE_2353.jpg': 1, 'IMAGE_2354.jpg': 0, 'IMAGE_2355.jpg': 0, 'IMAGE_2356.jpg': 0, 'IMAGE_2357.jpg': 1, 'IMAGE_2358.jpg': 1, 'IMAGE_2359.jpg': 1, 'IMAGE_2360.jpg': 1, 'IMAGE_2361.jpg': 1, 'IMAGE_2362.jpg': 1, 'IMAGE_2363.jpg': 1, 'IMAGE_2364.jpg': 1, 'IMAGE_2365.jpg': 0, 'IMAGE_2366.jpg': 0, 'IMAGE_2367.jpg': 1, 'IMAGE_2368.jpg': 1, 'IMAGE_2369.jpg': 1, 'IMAGE_2370.jpg': 1, 'IMAGE_2371.jpg': 0, 'IMAGE_2372.jpg': 1, 'IMAGE_2373.jpg': 1, 'IMAGE_2374.jpg': 1, 'IMAGE_2375.jpg': 1, 'IMAGE_2376.jpg': 1, 'IMAGE_2377.jpg': 1, 'IMAGE_2378.jpg': 0, 'IMAGE_2379.jpg': 1, 'IMAGE_2380.jpg': 1, 'IMAGE_2381.jpg': 1, 'IMAGE_2382.jpg': 1, 'IMAGE_2383.jpg': 0, 'IMAGE_2384.jpg': 0, 'IMAGE_2385.jpg': 1, 'IMAGE_2386.jpg': 1, 'IMAGE_2387.jpg': 1, 'IMAGE_2388.jpg': 1, 'IMAGE_2389.jpg': 1, 'IMAGE_2390.jpg': 1, 'IMAGE_2391.jpg': 1, 'IMAGE_2392.jpg': 1, 'IMAGE_2393.jpg': 1, 'IMAGE_2394.jpg': 0, 'IMAGE_2395.jpg': 1, 'IMAGE_2396.jpg': 1, 'IMAGE_2397.jpg': 1, 'IMAGE_2398.jpg': 1, 'IMAGE_2399.jpg': 1, 'IMAGE_2400.jpg': 1, 'IMAGE_2401.jpg': 0, 'IMAGE_2402.jpg': 1, 'IMAGE_2403.jpg': 1, 'IMAGE_2404.jpg': 1, 'IMAGE_2405.jpg': 1, 'IMAGE_2406.jpg': 1, 'IMAGE_2407.jpg': 0, 'IMAGE_2408.jpg': 1, 'IMAGE_2409.jpg': 1, 'IMAGE_2410.jpg': 1, 'IMAGE_2411.jpg': 0, 'IMAGE_2412.jpg': 1, 'IMAGE_2413.jpg': 1, 'IMAGE_2414.jpg': 0, 'IMAGE_2415.jpg': 1, 'IMAGE_2416.jpg': 1, 'IMAGE_2417.jpg': 1, 'IMAGE_2418.jpg': 1, 'IMAGE_2419.jpg': 1, 'IMAGE_2420.jpg': 1, 'IMAGE_2421.jpg': 1, 'IMAGE_2422.jpg': 1, 'IMAGE_2423.jpg': 1, 'IMAGE_2424.jpg': 1, 'IMAGE_2425.jpg': 0, 'IMAGE_2426.jpg': 1, 'IMAGE_2427.jpg': 0, 'IMAGE_2428.jpg': 1, 'IMAGE_2429.jpg': 1, 'IMAGE_2430.jpg': 1, 'IMAGE_2431.jpg': 0, 'IMAGE_2432.jpg': 0, 'IMAGE_2433.jpg': 1, 'IMAGE_2434.jpg': 1, 'IMAGE_2435.jpg': 0, 'IMAGE_2436.jpg': 1, 'IMAGE_2437.jpg': 1, 'IMAGE_2438.jpg': 1, 'IMAGE_2439.jpg': 0, 'IMAGE_2440.jpg': 1, 'IMAGE_2441.jpg': 1, 'IMAGE_2442.jpg': 1, 'IMAGE_2443.jpg': 1, 'IMAGE_2444.jpg': 1, 'IMAGE_2445.jpg': 0, 'IMAGE_2446.jpg': 1, 'IMAGE_2447.jpg': 1, 'IMAGE_2448.jpg': 1, 'IMAGE_2449.jpg': 1, 'IMAGE_2450.jpg': 1, 'IMAGE_2451.jpg': 1, 'IMAGE_2452.jpg': 1, 'IMAGE_2453.jpg': 1, 'IMAGE_2454.jpg': 1, 'IMAGE_2455.jpg': 0, 'IMAGE_2456.jpg': 1, 'IMAGE_2457.jpg': 1, 'IMAGE_2458.jpg': 1, 'IMAGE_2459.jpg': 1, 'IMAGE_2460.jpg': 1, 'IMAGE_2461.jpg': 1, 'IMAGE_2462.jpg': 1, 'IMAGE_2463.jpg': 0, 'IMAGE_2464.jpg': 0, 'IMAGE_2465.jpg': 1, 'IMAGE_2466.jpg': 1, 'IMAGE_2467.jpg': 1, 'IMAGE_2468.jpg': 1, 'IMAGE_2469.jpg': 1, 'IMAGE_2470.jpg': 1, 'IMAGE_2471.jpg': 1, 'IMAGE_2472.jpg': 1, 'IMAGE_2473.jpg': 1, 'IMAGE_2474.jpg': 1, 'IMAGE_2475.jpg': 1, 'IMAGE_2476.jpg': 1, 'IMAGE_2477.jpg': 0, 'IMAGE_2478.jpg': 1, 'IMAGE_2479.jpg': 0, 'IMAGE_2480.jpg': 1, 'IMAGE_2481.jpg': 1, 'IMAGE_2482.jpg': 1, 'IMAGE_2483.jpg': 1, 'IMAGE_2484.jpg': 1, 'IMAGE_2485.jpg': 1, 'IMAGE_2486.jpg': 1, 'IMAGE_2487.jpg': 0, 'IMAGE_2488.jpg': 1, 'IMAGE_2489.jpg': 1, 'IMAGE_2490.jpg': 1, 'IMAGE_2491.jpg': 1, 'IMAGE_2492.jpg': 1, 'IMAGE_2493.jpg': 1, 'IMAGE_2494.jpg': 1, 'IMAGE_2495.jpg': 1, 'IMAGE_2496.jpg': 1, 'IMAGE_2497.jpg': 1, 'IMAGE_2498.jpg': 1, 'IMAGE_2499.jpg': 1, 'IMAGE_2500.jpg': 1, 'IMAGE_2501.jpg': 0, 'IMAGE_2502.jpg': 1, 'IMAGE_2503.jpg': 1, 'IMAGE_2504.jpg': 1, 'IMAGE_2505.jpg': 1, 'IMAGE_2506.jpg': 1, 'IMAGE_2507.jpg': 1, 'IMAGE_2508.jpg': 1, 'IMAGE_2509.jpg': 1, 'IMAGE_2510.jpg': 0, 'IMAGE_2511.jpg': 0, 'IMAGE_2512.jpg': 1, 'IMAGE_2513.jpg': 1, 'IMAGE_2514.jpg': 1, 'IMAGE_2515.jpg': 1, 'IMAGE_2516.jpg': 0, 'IMAGE_2517.jpg': 1, 'IMAGE_2518.jpg': 1, 'IMAGE_2519.jpg': 1, 'IMAGE_2520.jpg': 1, 'IMAGE_2521.jpg': 1, 'IMAGE_2522.jpg': 1, 'IMAGE_2523.jpg': 0, 'IMAGE_2524.jpg': 1, 'IMAGE_2525.jpg': 1, 'IMAGE_2526.jpg': 1, 'IMAGE_2527.jpg': 1, 'IMAGE_2528.jpg': 1, 'IMAGE_2529.jpg': 1, 'IMAGE_2530.jpg': 1, 'IMAGE_2531.jpg': 1, 'IMAGE_2532.jpg': 0, 'IMAGE_2533.jpg': 1, 'IMAGE_2534.jpg': 1, 'IMAGE_2535.jpg': 0, 'IMAGE_2536.jpg': 1, 'IMAGE_2537.jpg': 1, 'IMAGE_2538.jpg': 0, 'IMAGE_2539.jpg': 1, 'IMAGE_2540.jpg': 1, 'IMAGE_2541.jpg': 1, 'IMAGE_2542.jpg': 1, 'IMAGE_2543.jpg': 1, 'IMAGE_2544.jpg': 1, 'IMAGE_2545.jpg': 1, 'IMAGE_2546.jpg': 1, 'IMAGE_2547.jpg': 1, 'IMAGE_2548.jpg': 1, 'IMAGE_2549.jpg': 1, 'IMAGE_2550.jpg': 0, 'IMAGE_2551.jpg': 1, 'IMAGE_2552.jpg': 1, 'IMAGE_2553.jpg': 1, 'IMAGE_2554.jpg': 1, 'IMAGE_2555.jpg': 0, 'IMAGE_2556.jpg': 1, 'IMAGE_2557.jpg': 1, 'IMAGE_2558.jpg': 1, 'IMAGE_2559.jpg': 1, 'IMAGE_2560.jpg': 1, 'IMAGE_2561.jpg': 0, 'IMAGE_2562.jpg': 1, 'IMAGE_2563.jpg': 1, 'IMAGE_2564.jpg': 1, 'IMAGE_2565.jpg': 1, 'IMAGE_2566.jpg': 1, 'IMAGE_2567.jpg': 1, 'IMAGE_2568.jpg': 1, 'IMAGE_2569.jpg': 0, 'IMAGE_2570.jpg': 1, 'IMAGE_2571.jpg': 1, 'IMAGE_2572.jpg': 1, 'IMAGE_2573.jpg': 1, 'IMAGE_2574.jpg': 1, 'IMAGE_2575.jpg': 1, 'IMAGE_2576.jpg': 0, 'IMAGE_2577.jpg': 1, 'IMAGE_2578.jpg': 1, 'IMAGE_2579.jpg': 1, 'IMAGE_2580.jpg': 1, 'IMAGE_2581.jpg': 0, 'IMAGE_2582.jpg': 1, 'IMAGE_2583.jpg': 1, 'IMAGE_2584.jpg': 1, 'IMAGE_2585.jpg': 1, 'IMAGE_2586.jpg': 1, 'IMAGE_2587.jpg': 1, 'IMAGE_2588.jpg': 1, 'IMAGE_2589.jpg': 1, 'IMAGE_2590.jpg': 1, 'IMAGE_2591.jpg': 1, 'IMAGE_2592.jpg': 1, 'IMAGE_2593.jpg': 1, 'IMAGE_2594.jpg': 1, 'IMAGE_2595.jpg': 1, 'IMAGE_2596.jpg': 1, 'IMAGE_2597.jpg': 1, 'IMAGE_2598.jpg': 1, 'IMAGE_2599.jpg': 0, 'IMAGE_2600.jpg': 1, 'IMAGE_2601.jpg': 1, 'IMAGE_2602.jpg': 1, 'IMAGE_2603.jpg': 1, 'IMAGE_2604.jpg': 1, 'IMAGE_2605.jpg': 1, 'IMAGE_2606.jpg': 1, 'IMAGE_2607.jpg': 0, 'IMAGE_2608.jpg': 1, 'IMAGE_2609.jpg': 1, 'IMAGE_2610.jpg': 1, 'IMAGE_2611.jpg': 1, 'IMAGE_2612.jpg': 1, 'IMAGE_2613.jpg': 1, 'IMAGE_2614.jpg': 1, 'IMAGE_2615.jpg': 0, 'IMAGE_2616.jpg': 1, 'IMAGE_2617.jpg': 1, 'IMAGE_2618.jpg': 1, 'IMAGE_2619.jpg': 1, 'IMAGE_2620.jpg': 1, 'IMAGE_2621.jpg': 1, 'IMAGE_2622.jpg': 1, 'IMAGE_2623.jpg': 1, 'IMAGE_2624.jpg': 1, 'IMAGE_2625.jpg': 0, 'IMAGE_2626.jpg': 1, 'IMAGE_2627.jpg': 1, 'IMAGE_2628.jpg': 1, 'IMAGE_2629.jpg': 1, 'IMAGE_2630.jpg': 1, 'IMAGE_2631.jpg': 0, 'IMAGE_2632.jpg': 1, 'IMAGE_2633.jpg': 0, 'IMAGE_2634.jpg': 0, 'IMAGE_2635.jpg': 1, 'IMAGE_2636.jpg': 1, 'IMAGE_2637.jpg': 0, 'IMAGE_2638.jpg': 1, 'IMAGE_2639.jpg': 1, 'IMAGE_2640.jpg': 1, 'IMAGE_2641.jpg': 1, 'IMAGE_2642.jpg': 1, 'IMAGE_2643.jpg': 1, 'IMAGE_2644.jpg': 0, 'IMAGE_2645.jpg': 1, 'IMAGE_2646.jpg': 1, 'IMAGE_2647.jpg': 1, 'IMAGE_2648.jpg': 1, 'IMAGE_2649.jpg': 1, 'IMAGE_2650.jpg': 1, 'IMAGE_2651.jpg': 1, 'IMAGE_2652.jpg': 1, 'IMAGE_2653.jpg': 1, 'IMAGE_2654.jpg': 0, 'IMAGE_2655.jpg': 1, 'IMAGE_2656.jpg': 0, 'IMAGE_2657.jpg': 1, 'IMAGE_2658.jpg': 1, 'IMAGE_2659.jpg': 1, 'IMAGE_2660.jpg': 1, 'IMAGE_2661.jpg': 1, 'IMAGE_2662.jpg': 1, 'IMAGE_2663.jpg': 1, 'IMAGE_2664.jpg': 1, 'IMAGE_2665.jpg': 1, 'IMAGE_2666.jpg': 1, 'IMAGE_2667.jpg': 1, 'IMAGE_2668.jpg': 1, 'IMAGE_2669.jpg': 1, 'IMAGE_2670.jpg': 1, 'IMAGE_2671.jpg': 1, 'IMAGE_2672.jpg': 1, 'IMAGE_2673.jpg': 1, 'IMAGE_2674.jpg': 1, 'IMAGE_2675.jpg': 1, 'IMAGE_2676.jpg': 1, 'IMAGE_2677.jpg': 1, 'IMAGE_2678.jpg': 1, 'IMAGE_2679.jpg': 1, 'IMAGE_2680.jpg': 1, 'IMAGE_2681.jpg': 1, 'IMAGE_2682.jpg': 1, 'IMAGE_2683.jpg': 1, 'IMAGE_2684.jpg': 1, 'IMAGE_2685.jpg': 0, 'IMAGE_2686.jpg': 1, 'IMAGE_2687.jpg': 1, 'IMAGE_2688.jpg': 1, 'IMAGE_2689.jpg': 1, 'IMAGE_2690.jpg': 1, 'IMAGE_2691.jpg': 0, 'IMAGE_2692.jpg': 1, 'IMAGE_2693.jpg': 1, 'IMAGE_2694.jpg': 1, 'IMAGE_2695.jpg': 1, 'IMAGE_2696.jpg': 1, 'IMAGE_2697.jpg': 0, 'IMAGE_2698.jpg': 1, 'IMAGE_2699.jpg': 0, 'IMAGE_2700.jpg': 1, 'IMAGE_2701.jpg': 1, 'IMAGE_2702.jpg': 1, 'IMAGE_2703.jpg': 1, 'IMAGE_2704.jpg': 1, 'IMAGE_2705.jpg': 1, 'IMAGE_2706.jpg': 1, 'IMAGE_2707.jpg': 1, 'IMAGE_2708.jpg': 0, 'IMAGE_2709.jpg': 1, 'IMAGE_2710.jpg': 0, 'IMAGE_2711.jpg': 1, 'IMAGE_2712.jpg': 1, 'IMAGE_2713.jpg': 1, 'IMAGE_2714.jpg': 0, 'IMAGE_2715.jpg': 1, 'IMAGE_2716.jpg': 1, 'IMAGE_2717.jpg': 1, 'IMAGE_2718.jpg': 1, 'IMAGE_2719.jpg': 1, 'IMAGE_2720.jpg': 1, 'IMAGE_2721.jpg': 1, 'IMAGE_2722.jpg': 1, 'IMAGE_2723.jpg': 1, 'IMAGE_2724.jpg': 1, 'IMAGE_2725.jpg': 1, 'IMAGE_2726.jpg': 1, 'IMAGE_2727.jpg': 1, 'IMAGE_2728.jpg': 1, 'IMAGE_2729.jpg': 0, 'IMAGE_2730.jpg': 1, 'IMAGE_2731.jpg': 1, 'IMAGE_2732.jpg': 1, 'IMAGE_2733.jpg': 1, 'IMAGE_2734.jpg': 1, 'IMAGE_2735.jpg': 1, 'IMAGE_2736.jpg': 1, 'IMAGE_2737.jpg': 1, 'IMAGE_2738.jpg': 1, 'IMAGE_2739.jpg': 1, 'IMAGE_2740.jpg': 1, 'IMAGE_2741.jpg': 1, 'IMAGE_2742.jpg': 1, 'IMAGE_2743.jpg': 0, 'IMAGE_2744.jpg': 1, 'IMAGE_2745.jpg': 1, 'IMAGE_2746.jpg': 1, 'IMAGE_2747.jpg': 1, 'IMAGE_2748.jpg': 0, 'IMAGE_2749.jpg': 1, 'IMAGE_2750.jpg': 1, 'IMAGE_2751.jpg': 1, 'IMAGE_2752.jpg': 1, 'IMAGE_2753.jpg': 1, 'IMAGE_2754.jpg': 1, 'IMAGE_2755.jpg': 1, 'IMAGE_2756.jpg': 1, 'IMAGE_2757.jpg': 1, 'IMAGE_2758.jpg': 1, 'IMAGE_2759.jpg': 1, 'IMAGE_2760.jpg': 1, 'IMAGE_2761.jpg': 1, 'IMAGE_2762.jpg': 1, 'IMAGE_2763.jpg': 1, 'IMAGE_2764.jpg': 1, 'IMAGE_2765.jpg': 1, 'IMAGE_2766.jpg': 1, 'IMAGE_2767.jpg': 1, 'IMAGE_2768.jpg': 0, 'IMAGE_2769.jpg': 1, 'IMAGE_2770.jpg': 1, 'IMAGE_2771.jpg': 1, 'IMAGE_2772.jpg': 1, 'IMAGE_2773.jpg': 1, 'IMAGE_2774.jpg': 1, 'IMAGE_2775.jpg': 1, 'IMAGE_2776.jpg': 1, 'IMAGE_2777.jpg': 1, 'IMAGE_2778.jpg': 1, 'IMAGE_2779.jpg': 1, 'IMAGE_2780.jpg': 1, 'IMAGE_2781.jpg': 1, 'IMAGE_2782.jpg': 1, 'IMAGE_2783.jpg': 1, 'IMAGE_2784.jpg': 1, 'IMAGE_2785.jpg': 1, 'IMAGE_2786.jpg': 1, 'IMAGE_2787.jpg': 1, 'IMAGE_2788.jpg': 1, 'IMAGE_2789.jpg': 1, 'IMAGE_2790.jpg': 1, 'IMAGE_2791.jpg': 1, 'IMAGE_2792.jpg': 1, 'IMAGE_2793.jpg': 1, 'IMAGE_2794.jpg': 1, 'IMAGE_2795.jpg': 1, 'IMAGE_2796.jpg': 1, 'IMAGE_2797.jpg': 0, 'IMAGE_2798.jpg': 1, 'IMAGE_2799.jpg': 1, 'IMAGE_2800.jpg': 1, 'IMAGE_2801.jpg': 1, 'IMAGE_2802.jpg': 1, 'IMAGE_2803.jpg': 1, 'IMAGE_2804.jpg': 0, 'IMAGE_2805.jpg': 1, 'IMAGE_2806.jpg': 0, 'IMAGE_2807.jpg': 1, 'IMAGE_2808.jpg': 1, 'IMAGE_2809.jpg': 1, 'IMAGE_2810.jpg': 1, 'IMAGE_2811.jpg': 1, 'IMAGE_2812.jpg': 1, 'IMAGE_2813.jpg': 0, 'IMAGE_2814.jpg': 1, 'IMAGE_2815.jpg': 1, 'IMAGE_2816.jpg': 1, 'IMAGE_2817.jpg': 1, 'IMAGE_2818.jpg': 1, 'IMAGE_2819.jpg': 0, 'IMAGE_2820.jpg': 0, 'IMAGE_2821.jpg': 1, 'IMAGE_2822.jpg': 1, 'IMAGE_2823.jpg': 0, 'IMAGE_2824.jpg': 0, 'IMAGE_2825.jpg': 1, 'IMAGE_2826.jpg': 1, 'IMAGE_2827.jpg': 1, 'IMAGE_2828.jpg': 1, 'IMAGE_2829.jpg': 1, 'IMAGE_2830.jpg': 1, 'IMAGE_2831.jpg': 1, 'IMAGE_2832.jpg': 1, 'IMAGE_2833.jpg': 0, 'IMAGE_2834.jpg': 1, 'IMAGE_2835.jpg': 1, 'IMAGE_2836.jpg': 0, 'IMAGE_2837.jpg': 1, 'IMAGE_2838.jpg': 1, 'IMAGE_2839.jpg': 1, 'IMAGE_2840.jpg': 0, 'IMAGE_2841.jpg': 1, 'IMAGE_2842.jpg': 1, 'IMAGE_2843.jpg': 1, 'IMAGE_2844.jpg': 1, 'IMAGE_2845.jpg': 1, 'IMAGE_2846.jpg': 1, 'IMAGE_2847.jpg': 1, 'IMAGE_2848.jpg': 0, 'IMAGE_2849.jpg': 1, 'IMAGE_2850.jpg': 0, 'IMAGE_2851.jpg': 1, 'IMAGE_2852.jpg': 1, 'IMAGE_2853.jpg': 0, 'IMAGE_2854.jpg': 1, 'IMAGE_2855.jpg': 1, 'IMAGE_2856.jpg': 1, 'IMAGE_2857.jpg': 1, 'IMAGE_2858.jpg': 1, 'IMAGE_2859.jpg': 0, 'IMAGE_2860.jpg': 1, 'IMAGE_2861.jpg': 0, 'IMAGE_2862.jpg': 1, 'IMAGE_2863.jpg': 0, 'IMAGE_2864.jpg': 1, 'IMAGE_2865.jpg': 1, 'IMAGE_2866.jpg': 0, 'IMAGE_2867.jpg': 1, 'IMAGE_2868.jpg': 0, 'IMAGE_2869.jpg': 1, 'IMAGE_2870.jpg': 1, 'IMAGE_2871.jpg': 1, 'IMAGE_2872.jpg': 1, 'IMAGE_2873.jpg': 0, 'IMAGE_2874.jpg': 0, 'IMAGE_2875.jpg': 1, 'IMAGE_2876.jpg': 1, 'IMAGE_2877.jpg': 0, 'IMAGE_2878.jpg': 1, 'IMAGE_2879.jpg': 1, 'IMAGE_2880.jpg': 1, 'IMAGE_2881.jpg': 0, 'IMAGE_2882.jpg': 1, 'IMAGE_2883.jpg': 1, 'IMAGE_2884.jpg': 1, 'IMAGE_2885.jpg': 1, 'IMAGE_2886.jpg': 0, 'IMAGE_2887.jpg': 1, 'IMAGE_2888.jpg': 1, 'IMAGE_2889.jpg': 0, 'IMAGE_2890.jpg': 1, 'IMAGE_2891.jpg': 1, 'IMAGE_2892.jpg': 1, 'IMAGE_2893.jpg': 1, 'IMAGE_2894.jpg': 1, 'IMAGE_2895.jpg': 1, 'IMAGE_2896.jpg': 1, 'IMAGE_2897.jpg': 1, 'IMAGE_2898.jpg': 1, 'IMAGE_2899.jpg': 0, 'IMAGE_2900.jpg': 1, 'IMAGE_2901.jpg': 1, 'IMAGE_2902.jpg': 1, 'IMAGE_2903.jpg': 1, 'IMAGE_2904.jpg': 1, 'IMAGE_2905.jpg': 1, 'IMAGE_2906.jpg': 1, 'IMAGE_2907.jpg': 1, 'IMAGE_2908.jpg': 1, 'IMAGE_2909.jpg': 1, 'IMAGE_2910.jpg': 1, 'IMAGE_2911.jpg': 1, 'IMAGE_2912.jpg': 1, 'IMAGE_2913.jpg': 1, 'IMAGE_2914.jpg': 1, 'IMAGE_2915.jpg': 1, 'IMAGE_2916.jpg': 0, 'IMAGE_2917.jpg': 1, 'IMAGE_2918.jpg': 1, 'IMAGE_2919.jpg': 1, 'IMAGE_2920.jpg': 1, 'IMAGE_2921.jpg': 1, 'IMAGE_2922.jpg': 1, 'IMAGE_2923.jpg': 0, 'IMAGE_2924.jpg': 1, 'IMAGE_2925.jpg': 1, 'IMAGE_2926.jpg': 0, 'IMAGE_2927.jpg': 1, 'IMAGE_2928.jpg': 1, 'IMAGE_2929.jpg': 1, 'IMAGE_2930.jpg': 1, 'IMAGE_2931.jpg': 1, 'IMAGE_2932.jpg': 1, 'IMAGE_2933.jpg': 1, 'IMAGE_2934.jpg': 1, 'IMAGE_2935.jpg': 0, 'IMAGE_2936.jpg': 1, 'IMAGE_2937.jpg': 1, 'IMAGE_2938.jpg': 1, 'IMAGE_2939.jpg': 1, 'IMAGE_2940.jpg': 1, 'IMAGE_2941.jpg': 1, 'IMAGE_2942.jpg': 1, 'IMAGE_2943.jpg': 0, 'IMAGE_2944.jpg': 1, 'IMAGE_2945.jpg': 1, 'IMAGE_2946.jpg': 1, 'IMAGE_2947.jpg': 1, 'IMAGE_2948.jpg': 0, 'IMAGE_2949.jpg': 0, 'IMAGE_2950.jpg': 0, 'IMAGE_2951.jpg': 1, 'IMAGE_2952.jpg': 1, 'IMAGE_2953.jpg': 1, 'IMAGE_2954.jpg': 1, 'IMAGE_2955.jpg': 1, 'IMAGE_2956.jpg': 1, 'IMAGE_2957.jpg': 1, 'IMAGE_2958.jpg': 1, 'IMAGE_2959.jpg': 1, 'IMAGE_2960.jpg': 1, 'IMAGE_2961.jpg': 0, 'IMAGE_2962.jpg': 0, 'IMAGE_2963.jpg': 1, 'IMAGE_2964.jpg': 1, 'IMAGE_2965.jpg': 1, 'IMAGE_2966.jpg': 1, 'IMAGE_2967.jpg': 1, 'IMAGE_2968.jpg': 1, 'IMAGE_2969.jpg': 1, 'IMAGE_2970.jpg': 1, 'IMAGE_2971.jpg': 1, 'IMAGE_2972.jpg': 1, 'IMAGE_2973.jpg': 1, 'IMAGE_2974.jpg': 1, 'IMAGE_2975.jpg': 1, 'IMAGE_2976.jpg': 0, 'IMAGE_2977.jpg': 0, 'IMAGE_2978.jpg': 1, 'IMAGE_2979.jpg': 1, 'IMAGE_2980.jpg': 1, 'IMAGE_2981.jpg': 1, 'IMAGE_2982.jpg': 1, 'IMAGE_2983.jpg': 0, 'IMAGE_2984.jpg': 1, 'IMAGE_2985.jpg': 1, 'IMAGE_2986.jpg': 1, 'IMAGE_2987.jpg': 0, 'IMAGE_2988.jpg': 1, 'IMAGE_2989.jpg': 1, 'IMAGE_2990.jpg': 1, 'IMAGE_2991.jpg': 1, 'IMAGE_2992.jpg': 1, 'IMAGE_2993.jpg': 1, 'IMAGE_2994.jpg': 1, 'IMAGE_2995.jpg': 0, 'IMAGE_2996.jpg': 1, 'IMAGE_2997.jpg': 1, 'IMAGE_2998.jpg': 1, 'IMAGE_2999.jpg': 1}\n",
      "./dataset/image\n"
     ]
    },
    {
     "name": "stderr",
     "output_type": "stream",
     "text": [
      "/Users/youssefalaouimrani/opt/anaconda3/envs/python37/lib/python3.7/site-packages/sklearn/linear_model/_logistic.py:818: ConvergenceWarning: lbfgs failed to converge (status=1):\n",
      "STOP: TOTAL NO. of ITERATIONS REACHED LIMIT.\n",
      "\n",
      "Increase the number of iterations (max_iter) or scale the data as shown in:\n",
      "    https://scikit-learn.org/stable/modules/preprocessing.html\n",
      "Please also refer to the documentation for alternative solver options:\n",
      "    https://scikit-learn.org/stable/modules/linear_model.html#logistic-regression\n",
      "  extra_warning_msg=_LOGISTIC_SOLVER_CONVERGENCE_MSG,\n"
     ]
    },
    {
     "data": {
      "text/plain": [
       "LogisticRegression(C=0.1)"
      ]
     },
     "execution_count": 7,
     "metadata": {},
     "output_type": "execute_result"
    }
   ],
   "source": [
    "tr_X, tr_Y, te_X, te_Y = get_data()\n",
    "\n",
    "classifier = LogisticRegression(C = 0.1, solver='lbfgs')\n",
    "classifier.fit(tr_X, list(zip(*tr_Y))[0])\n"
   ]
  },
  {
   "cell_type": "code",
   "execution_count": 8,
   "id": "f5513875",
   "metadata": {},
   "outputs": [
    {
     "name": "stdout",
     "output_type": "stream",
     "text": [
      "Accuracy: 0.935\n"
     ]
    }
   ],
   "source": [
    "pred = classifier.predict(te_X)\n",
    "print(\"Accuracy:\", accuracy_score(list(zip(*te_Y))[0], pred))"
   ]
  },
  {
   "cell_type": "code",
   "execution_count": 9,
   "id": "93676375",
   "metadata": {},
   "outputs": [
    {
     "name": "stdout",
     "output_type": "stream",
     "text": [
      "              precision    recall  f1-score   support\n",
      "\n",
      "   no tumour       0.86      0.61      0.71        79\n",
      "      tumour       0.94      0.98      0.96       521\n",
      "\n",
      "    accuracy                           0.94       600\n",
      "   macro avg       0.90      0.80      0.84       600\n",
      "weighted avg       0.93      0.94      0.93       600\n",
      "\n"
     ]
    }
   ],
   "source": [
    "rounded_labels = list(zip(*te_Y))[0]\n",
    "cm = classification_report(rounded_labels, pred, target_names = [\"no tumour\", \"tumour\"])\n",
    "print(cm)"
   ]
  },
  {
   "cell_type": "markdown",
   "id": "344f2f52",
   "metadata": {},
   "source": [
    "## Testing on Test Set"
   ]
  },
  {
   "cell_type": "markdown",
   "id": "c7bb6614",
   "metadata": {},
   "source": [
    "### Pre-processing of testing data\n"
   ]
  },
  {
   "cell_type": "code",
   "execution_count": 10,
   "id": "83dc1562",
   "metadata": {},
   "outputs": [],
   "source": [
    "testdir = './test'\n",
    "test_images_dir = os.path.join(testdir,'image')\n",
    "test_labels_filename = 'label.csv'\n",
    "\n",
    "def binary_labelling_testset(): \n",
    "    labels_file = open(os.path.join(testdir, test_labels_filename), 'r')\n",
    "    lines = labels_file.readlines()\n",
    "    tumor_labels = {line.split(',')[0] : (line.split(',')[1].strip()) for line in lines[1:]}\n",
    "\n",
    "    for i in tumor_labels: \n",
    "        if tumor_labels[i] == 'no_tumor': \n",
    "            tumor_labels[i] = 0\n",
    "        else:\n",
    "            tumor_labels[i] = 1    \n",
    "    return(tumor_labels)"
   ]
  },
  {
   "cell_type": "code",
   "execution_count": 11,
   "id": "39d60cee",
   "metadata": {},
   "outputs": [],
   "source": [
    "def extract_features_testset():\n",
    "    all_features = []\n",
    "    all_labels = []\n",
    "    \n",
    "    labels = binary_labelling_testset()\n",
    "\n",
    "    image_paths = [os.path.join(test_images_dir, l) for l in os.listdir(test_images_dir)]\n",
    "    if os.path.isdir(images_dir):\n",
    "        all_features = []\n",
    "        all_labels = []\n",
    "        for img_path in image_paths:\n",
    "            filename = img_path.split('/')[-1]\n",
    "            img = imread(img_path, as_gray=True)\n",
    "            features = np.reshape(img, (512*512))\n",
    "            features.shape, features\n",
    "            all_features.append(features)\n",
    "            all_labels.append(labels[filename])\n",
    "    np_features = np.array(all_features)\n",
    "    np_labels = np.array(all_labels)\n",
    "    return np_features, np_labels"
   ]
  },
  {
   "cell_type": "markdown",
   "id": "cd6669d7",
   "metadata": {},
   "source": [
    "### Testing"
   ]
  },
  {
   "cell_type": "code",
   "execution_count": 12,
   "id": "0f0fd1a4",
   "metadata": {},
   "outputs": [
    {
     "name": "stdout",
     "output_type": "stream",
     "text": [
      "Accuracy: 0.91\n",
      "              precision    recall  f1-score   support\n",
      "\n",
      "   no tumour       0.91      0.57      0.70        37\n",
      "      tumour       0.91      0.99      0.95       163\n",
      "\n",
      "    accuracy                           0.91       200\n",
      "   macro avg       0.91      0.78      0.82       200\n",
      "weighted avg       0.91      0.91      0.90       200\n",
      "\n"
     ]
    }
   ],
   "source": [
    "testing_x, testing_y = extract_features_testset()\n",
    "testing_Y = np.array([testing_y, -(testing_y - 1)]).T\n",
    "\n",
    "pred_testing = classifier.predict(testing_x)\n",
    "\n",
    "print(\"Accuracy:\", accuracy_score(list(zip(*testing_Y))[0], pred_testing))\n",
    "\n",
    "rounded_testing_labels = list(zip(*testing_Y))[0]\n",
    "\n",
    "c_report_testing = classification_report(rounded_testing_labels, pred_testing, target_names = [\"no tumour\", \"tumour\"])\n",
    "print(c_report_testing)"
   ]
  }
 ],
 "metadata": {
  "kernelspec": {
   "display_name": "Python 3 (ipykernel)",
   "language": "python",
   "name": "python3"
  },
  "language_info": {
   "codemirror_mode": {
    "name": "ipython",
    "version": 3
   },
   "file_extension": ".py",
   "mimetype": "text/x-python",
   "name": "python",
   "nbconvert_exporter": "python",
   "pygments_lexer": "ipython3",
   "version": "3.7.11"
  }
 },
 "nbformat": 4,
 "nbformat_minor": 5
}
